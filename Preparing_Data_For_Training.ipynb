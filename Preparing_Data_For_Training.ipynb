{
 "cells": [
  {
   "cell_type": "code",
   "execution_count": 1,
   "metadata": {
    "pycharm": {
     "is_executing": true
    }
   },
   "outputs": [],
   "source": [
    "import torch\n",
    "import pandas as pd\n",
    "from sklearn.model_selection import train_test_split\n",
    "from sklearn.metrics import mean_squared_error, mean_absolute_error, r2_score\n",
    "from sklearn.linear_model import LinearRegression\n",
    "from sklearn.pipeline import Pipeline\n",
    "from sklearn.preprocessing import StandardScaler\n",
    "import numpy as np\n",
    "import os\n",
    "import wandb\n",
    "import multiprocessing\n",
    "import matplotlib.pyplot as plt\n",
    "import chardet\n",
    "from sklearn.feature_selection import RFE\n",
    "from sklearn.neural_network import MLPRegressor\n",
    "import dask.dataframe as dd\n",
    "import pvlib\n",
    "import plotly.graph_objects as go\n",
    "import xgboost as xgb"
   ]
  },
  {
   "cell_type": "markdown",
   "metadata": {},
   "source": [
    "# Setting wandb and others"
   ]
  },
  {
   "cell_type": "code",
   "execution_count": 3,
   "metadata": {},
   "outputs": [],
   "source": [
    "os.environ[\"WANDB_NOTEBOOK_NAME\"] = \"ML.ipynb\""
   ]
  },
  {
   "cell_type": "code",
   "execution_count": 6,
   "metadata": {},
   "outputs": [
    {
     "name": "stderr",
     "output_type": "stream",
     "text": [
      "\u001b[34m\u001b[1mwandb\u001b[0m: Currently logged in as: \u001b[33makoagg\u001b[0m (\u001b[33mLukaszGawenda\u001b[0m). Use \u001b[1m`wandb login --relogin`\u001b[0m to force relogin\n"
     ]
    },
    {
     "data": {
      "text/plain": [
       "True"
      ]
     },
     "execution_count": 6,
     "metadata": {},
     "output_type": "execute_result"
    }
   ],
   "source": [
    "wandb.login()"
   ]
  },
  {
   "cell_type": "markdown",
   "metadata": {},
   "source": [
    "Insert your login Id here "
   ]
  },
  {
   "cell_type": "code",
   "execution_count": 7,
   "metadata": {},
   "outputs": [
    {
     "name": "stderr",
     "output_type": "stream",
     "text": [
      "wandb: Appending key for api.wandb.ai to your netrc file: C:\\Users\\Lukasz\\.netrc\n"
     ]
    }
   ],
   "source": [
    "!wandb login f860f5344a3596b6806fb4117cdab6bfaa45b26c"
   ]
  },
  {
   "cell_type": "code",
   "execution_count": 8,
   "metadata": {},
   "outputs": [
    {
     "name": "stdout",
     "output_type": "stream",
     "text": [
      "Using CUDA: NVIDIA GeForce RTX 3060 Laptop GPU\n"
     ]
    }
   ],
   "source": [
    "if torch.cuda.is_available():\n",
    "    # Set the default device to the available GPU\n",
    "    device = torch.device(\"cuda:0\")\n",
    "    torch.cuda.set_device(device)\n",
    "    print(f\"Using CUDA: {torch.cuda.get_device_name(device)}\")\n",
    "else:\n",
    "    # If CUDA is not available, use the CPU\n",
    "    device = torch.device(\"cpu\")\n",
    "    print(\"CUDA is not available. Using CPU.\")"
   ]
  },
  {
   "cell_type": "code",
   "execution_count": null,
   "metadata": {},
   "outputs": [],
   "source": [
    "ncpus = multiprocessing.cpu_count()\n",
    "print(f'Number of CPUs: {ncpus}')\n",
    "n_job=ncpus-2 # decrease number of ncpus job to avoid memory error\n",
    "print(f'Set number of jobs: {n_job}')"
   ]
  },
  {
   "cell_type": "markdown",
   "metadata": {},
   "source": [
    "# Data Processing"
   ]
  },
  {
   "cell_type": "markdown",
   "metadata": {},
   "source": [
    "Function to check missing value their percentage, type of data and nun-numeric columns"
   ]
  },
  {
   "cell_type": "code",
   "execution_count": 9,
   "metadata": {},
   "outputs": [],
   "source": [
    "def check_dataframe_for_ml(dataframe):\n",
    "    result = {}\n",
    "\n",
    "    missing_values = dataframe.isnull().sum()\n",
    "    result['missing_values'] = missing_values.to_dict()\n",
    "\n",
    "    missing_percent = (dataframe.isnull().sum()/dataframe.isnull().count()).sort_values(ascending=False)\n",
    "    result['missing_percent'] = missing_percent.to_dict()\n",
    "\n",
    "    data_types = dataframe.dtypes\n",
    "    result['data_types'] = data_types.to_dict()\n",
    "\n",
    "    non_numeric_columns = data_types[data_types != 'int64'][data_types != 'float64'].index\n",
    "    result['non_numeric_columns'] = non_numeric_columns.tolist()\n",
    "\n",
    "    return result"
   ]
  },
  {
   "cell_type": "markdown",
   "metadata": {},
   "source": [
    "## Resampling and loading data"
   ]
  },
  {
   "cell_type": "code",
   "execution_count": 10,
   "metadata": {},
   "outputs": [],
   "source": [
    "def process_dataframe(df):\n",
    "    resampled_data = []\n",
    "\n",
    "    # Get the unique station names\n",
    "    stations = np.sort(df['name'].astype(str).unique())\n",
    "    df['datetime'] = pd.to_datetime(df['datetime'])\n",
    "    # get date and time columns for Rayman\n",
    "    df[\"date\"] = df['datetime'].dt.strftime('%d.%m.%Y')\n",
    "    df[\"time\"] = df['datetime'].dt.strftime('%H:%M')\n",
    "    for station in stations:\n",
    "        # Select the data for the current station\n",
    "        station_df = df[df['name'] == station]\n",
    "\n",
    "        # Set 'datetime' as the index\n",
    "        station_df.set_index('datetime', inplace=True)\n",
    "        # Resample the data to the hour values\n",
    "        resampled_station_df = station_df.resample('h').agg({\n",
    "            'precip': 'sum',  # Sum of 'precip' over each hour\n",
    "            'temp': 'first',  # First 'temp' value in each hour\n",
    "            'pressure': 'first',  # First 'pressure' value in each hour\n",
    "            'humidity': 'first',  # First 'humidity' value in each hour\n",
    "            'wind_speed': 'mean',  # Average 'wind_speed' over each hour\n",
    "            'wind_gust': 'max',  # Maximum 'wind_gust' in each hour\n",
    "            'lat': 'first',  # First 'lat' value in each hour\n",
    "            'lon': 'first',  # First 'lon' value in each hour\n",
    "            'name': 'first',  # First 'name' value in each hour\n",
    "            'date' : 'first', # First 'date' value in each hour\n",
    "            'time' : 'first' # First 'time' value in each hour\n",
    "        })\n",
    "\n",
    "        resampled_station_df.reset_index(inplace=True)\n",
    "\n",
    "        resampled_data.append(resampled_station_df)\n",
    "\n",
    "    resampled_df = pd.concat(resampled_data)\n",
    "\n",
    "    # Here I delete repeated values of temperature in rows to decrease amount of repetitive data\n",
    "\n",
    "    # Identify the rows where 'temp' value changes\n",
    "    mask = resampled_df['temp'].shift() != resampled_df['temp']\n",
    "\n",
    "    # Create a new column 'group' to identify the groups of rows where 'temp' value is the same\n",
    "    resampled_df['group'] = mask.cumsum()\n",
    "\n",
    "    # Count the number of rows in each group\n",
    "    counts = resampled_df.groupby('group')['temp'].transform('count')\n",
    "\n",
    "    # If temp is same for 4 consctutive hours, then keep the first row and remove the rest\n",
    "    mask = counts > 4\n",
    "\n",
    "    # Remove the rows where 'mask' value is False\n",
    "    resampled_df = resampled_df[mask]\n",
    "\n",
    "    # Remove the 'group' column to clean the df \n",
    "    resampled_df.drop('group', axis=1, inplace=True)\n",
    "\n",
    "    # Remove rows with missing values\n",
    "    resampled_df = resampled_df.dropna()\n",
    "\n",
    "    resampled_df.reset_index(drop=True, inplace=True)\n",
    "    return resampled_df"
   ]
  },
  {
   "cell_type": "code",
   "execution_count": 11,
   "metadata": {},
   "outputs": [],
   "source": [
    "# loading all data\n",
    "df_20 = pd.read_csv(f'Data/Vlinder_2020.csv')\n",
    "df_21 = pd.read_csv(f'Data/Vlinder_2021.csv')\n",
    "df_22 = pd.read_csv(f'Data/Vlinder_2022.csv')\n",
    "df_23 = pd.read_csv(f'Data/Vlinder_2023.csv')"
   ]
  },
  {
   "cell_type": "code",
   "execution_count": 12,
   "metadata": {},
   "outputs": [],
   "source": [
    "df_20_r = process_dataframe(df_20)\n",
    "df_21_r = process_dataframe(df_21)\n",
    "df_22_r = process_dataframe(df_22) \n",
    "df_23_r = process_dataframe(df_23)"
   ]
  },
  {
   "cell_type": "markdown",
   "metadata": {},
   "source": [
    "Clean memory as we will not use it "
   ]
  },
  {
   "cell_type": "code",
   "execution_count": 13,
   "metadata": {},
   "outputs": [],
   "source": [
    "del df_20, df_21, df_22, df_23"
   ]
  },
  {
   "cell_type": "markdown",
   "metadata": {},
   "source": [
    "Function for preparing data for Rayman"
   ]
  },
  {
   "cell_type": "code",
   "execution_count": 14,
   "metadata": {},
   "outputs": [],
   "source": [
    "def generate_rayman_input(df, name):\n",
    "    rayman_df = df[['date', 'time', 'lat', 'lon','temp', 'humidity', 'wind_speed']]\n",
    "    rayman_df.to_csv(f'{name}.csv', index=False)"
   ]
  },
  {
   "cell_type": "code",
   "execution_count": 15,
   "metadata": {},
   "outputs": [],
   "source": [
    "# generate_rayman_input(df_20_r, 'input_2020')\n",
    "# generate_rayman_input(df_21_r, 'input_2021')\n",
    "# generate_rayman_input(df_22_r, 'input_2022')\n",
    "# generate_rayman_input(df_23_r, 'input_2023')"
   ]
  },
  {
   "cell_type": "markdown",
   "metadata": {},
   "source": [
    "Check of values"
   ]
  },
  {
   "cell_type": "code",
   "execution_count": 16,
   "metadata": {},
   "outputs": [],
   "source": [
    "# plt.figure(figsize=(16, 10))\n",
    "# plt.plot(test['humidity'][500:700]/4, label='humidity', marker='o')\n",
    "# plt.plot(test['temp'][500:700], label='temp', marker='o')\n",
    "# plt.xlabel('Index')\n",
    "# plt.ylabel('Precip')\n",
    "# plt.title('Precip vs Precip sum')\n",
    "# #plt.ylim(0, 5)\n",
    "# plt.legend()\n",
    "# plt.show()"
   ]
  },
  {
   "cell_type": "code",
   "execution_count": 17,
   "metadata": {},
   "outputs": [],
   "source": [
    "# plt.figure(figsize=(16, 10))\n",
    "# plt.plot(test_df['precip'][:1000], label='Precip')\n",
    "# plt.plot(test_df['humidity'][:1000]/50, label='humidity')\n",
    "# plt.plot(test_df['precip_sum'][:1000], label='Precip sum')\n",
    "# plt.xlabel('Index')\n",
    "# plt.ylabel('Precip')\n",
    "# plt.title('Precip vs Precip sum')\n",
    "# plt.ylim(0, 5)\n",
    "# plt.legend()\n",
    "# plt.show()"
   ]
  },
  {
   "cell_type": "code",
   "execution_count": 18,
   "metadata": {},
   "outputs": [],
   "source": [
    "# plt.figure(figsize=(16, 10))\n",
    "# plt.plot(test_df['pressure'], label='Pressure')\n",
    "# plt.plot(test_df['pressure_at_sea_level'], label='Pressure at Sea Level')\n",
    "# plt.xlabel('Index')\n",
    "# plt.ylabel('Pressure')\n",
    "# plt.title('Pressure vs Pressure at Sea Level')\n",
    "# plt.legend()\n",
    "# plt.show()"
   ]
  },
  {
   "cell_type": "markdown",
   "metadata": {},
   "source": [
    "## Loading Rayman Results"
   ]
  },
  {
   "cell_type": "code",
   "execution_count": 19,
   "metadata": {},
   "outputs": [],
   "source": [
    "def detect_encoding(file_path):\n",
    "    with open(file_path, 'rb') as file:\n",
    "        result = chardet.detect(file.read(1000))  # Sample to check encoding\n",
    "    return result['encoding']"
   ]
  },
  {
   "cell_type": "code",
   "execution_count": 20,
   "metadata": {},
   "outputs": [],
   "source": [
    "def load_data(file_path):\n",
    "    encoding = detect_encoding(file_path)\n",
    "    ddf = dd.read_csv(file_path,\n",
    "                      sep = '\\t', # tab seperated\n",
    "                      encoding=encoding,\n",
    "                      assume_missing=False, # in case of missing data make it float as that what pandas expect to get NaNs\n",
    "                      sample=1000000,\n",
    "                      skiprows=3,\n",
    "                      header=0)\n",
    "    # Drop the specified columns as we dont need them in ML\n",
    "    ddf = ddf.drop(columns=['height', 'weight', 'age', 'sex', 'cloth.', 'activ.'])\n",
    "    \n",
    "    # Drop columns that start with \"Unnamed:\" as they always get generated from Rayman Text File\n",
    "    ddf = ddf.drop(columns=[col for col in ddf.columns if col.startswith('Unnamed:')])\n",
    "    \n",
    "    df = ddf.compute()\n",
    "   \n",
    "    # Drop the first row with units\n",
    "    df = df.drop(df.index[0])\n",
    "\n",
    "    columns_to_convert = ['Latit.', 'Long.', 'A', 'Ta', 'RH', 'v', 'PET']\n",
    "    for col in columns_to_convert:\n",
    "        df[col] = df[col].astype('float64')\n",
    "    return df\n"
   ]
  },
  {
   "cell_type": "code",
   "execution_count": 21,
   "metadata": {},
   "outputs": [
    {
     "name": "stderr",
     "output_type": "stream",
     "text": [
      "d:\\Users\\Lukasz\\anaconda3\\envs\\mlenv\\lib\\site-packages\\dask\\dataframe\\io\\csv.py:195: DtypeWarning: Columns (2,3,4,5,6,7,14) have mixed types. Specify dtype option on import or set low_memory=False.\n",
      "  df = reader(bio, **kwargs)\n",
      "d:\\Users\\Lukasz\\anaconda3\\envs\\mlenv\\lib\\site-packages\\dask\\dataframe\\io\\csv.py:195: DtypeWarning: Columns (2,3,4,5,6,7,14) have mixed types. Specify dtype option on import or set low_memory=False.\n",
      "  df = reader(bio, **kwargs)\n",
      "d:\\Users\\Lukasz\\anaconda3\\envs\\mlenv\\lib\\site-packages\\dask\\dataframe\\io\\csv.py:195: DtypeWarning: Columns (2,3,4,5,6,7,14) have mixed types. Specify dtype option on import or set low_memory=False.\n",
      "  df = reader(bio, **kwargs)\n",
      "d:\\Users\\Lukasz\\anaconda3\\envs\\mlenv\\lib\\site-packages\\dask\\dataframe\\io\\csv.py:195: DtypeWarning: Columns (2,3,4,5,6,7,14) have mixed types. Specify dtype option on import or set low_memory=False.\n",
      "  df = reader(bio, **kwargs)\n"
     ]
    }
   ],
   "source": [
    "df_20_ro= load_data('output_2020.txt')\n",
    "df_21_ro = load_data('output_2021.txt')\n",
    "df_22_ro = load_data('output_2022.txt')\n",
    "df_23_ro = load_data('output_2023.txt')"
   ]
  },
  {
   "cell_type": "markdown",
   "metadata": {},
   "source": [
    "Check shapes so we know rayman don't cut some values out"
   ]
  },
  {
   "cell_type": "code",
   "execution_count": 22,
   "metadata": {},
   "outputs": [],
   "source": [
    "def check_shapes(rayman_input, rayman_output):\n",
    "    return rayman_input.shape[0] == rayman_output.shape[0] "
   ]
  },
  {
   "cell_type": "code",
   "execution_count": 23,
   "metadata": {},
   "outputs": [
    {
     "name": "stdout",
     "output_type": "stream",
     "text": [
      "True\n",
      "True\n",
      "True\n",
      "True\n"
     ]
    }
   ],
   "source": [
    "print(check_shapes(df_20_r, df_20_ro))\n",
    "print(check_shapes(df_21_r, df_21_ro))\n",
    "print(check_shapes(df_22_r, df_22_ro))\n",
    "print(check_shapes(df_23_r, df_23_ro))"
   ]
  },
  {
   "cell_type": "markdown",
   "metadata": {},
   "source": [
    "## Create dataframe used for Machine Learning "
   ]
  },
  {
   "cell_type": "code",
   "execution_count": 24,
   "metadata": {},
   "outputs": [
    {
     "name": "stdout",
     "output_type": "stream",
     "text": [
      "True\n"
     ]
    }
   ],
   "source": [
    "df_ml = pd.concat([df_20_r, df_21_r, df_22_r, df_23_r]).reset_index(drop=True)\n",
    "df_ro = pd.concat([df_20_ro, df_21_ro, df_22_ro, df_23_ro]).reset_index(drop=True)\n",
    "# Select the required columns from df_r\n",
    "df_ml = df_ml[['datetime', 'time', 'precip', 'temp', 'pressure', 'humidity', 'wind_speed', 'wind_gust', 'lat', 'lon',]]\n",
    "df_ml['PET'] = df_ro['PET']\n",
    "print(df_ml.shape[0] == df_20_r.shape[0] + df_21_r.shape[0] + df_22_r.shape[0] + df_23_r.shape[0])"
   ]
  },
  {
   "cell_type": "markdown",
   "metadata": {},
   "source": [
    "Clean memory of not used df"
   ]
  },
  {
   "cell_type": "code",
   "execution_count": 25,
   "metadata": {},
   "outputs": [],
   "source": [
    "del df_20_r, df_21_r, df_22_r, df_23_r, df_20_ro, df_21_ro, df_22_ro, df_23_ro, df_ro"
   ]
  },
  {
   "cell_type": "markdown",
   "metadata": {},
   "source": [
    "### Changing columns to numerical "
   ]
  },
  {
   "cell_type": "code",
   "execution_count": 26,
   "metadata": {},
   "outputs": [
    {
     "data": {
      "text/html": [
       "<div>\n",
       "<style scoped>\n",
       "    .dataframe tbody tr th:only-of-type {\n",
       "        vertical-align: middle;\n",
       "    }\n",
       "\n",
       "    .dataframe tbody tr th {\n",
       "        vertical-align: top;\n",
       "    }\n",
       "\n",
       "    .dataframe thead th {\n",
       "        text-align: right;\n",
       "    }\n",
       "</style>\n",
       "<table border=\"1\" class=\"dataframe\">\n",
       "  <thead>\n",
       "    <tr style=\"text-align: right;\">\n",
       "      <th></th>\n",
       "      <th>datetime</th>\n",
       "      <th>hours</th>\n",
       "      <th>minutes</th>\n",
       "      <th>hour_decimal</th>\n",
       "      <th>day_of_week</th>\n",
       "      <th>day_of_year</th>\n",
       "    </tr>\n",
       "  </thead>\n",
       "  <tbody>\n",
       "    <tr>\n",
       "      <th>2144526</th>\n",
       "      <td>2023-12-30 15:00:00</td>\n",
       "      <td>15</td>\n",
       "      <td>0</td>\n",
       "      <td>15.0</td>\n",
       "      <td>5</td>\n",
       "      <td>364</td>\n",
       "    </tr>\n",
       "    <tr>\n",
       "      <th>2144527</th>\n",
       "      <td>2023-12-30 16:00:00</td>\n",
       "      <td>16</td>\n",
       "      <td>0</td>\n",
       "      <td>16.0</td>\n",
       "      <td>5</td>\n",
       "      <td>364</td>\n",
       "    </tr>\n",
       "    <tr>\n",
       "      <th>2144528</th>\n",
       "      <td>2023-12-30 17:00:00</td>\n",
       "      <td>17</td>\n",
       "      <td>0</td>\n",
       "      <td>17.0</td>\n",
       "      <td>5</td>\n",
       "      <td>364</td>\n",
       "    </tr>\n",
       "    <tr>\n",
       "      <th>2144529</th>\n",
       "      <td>2023-12-30 18:00:00</td>\n",
       "      <td>18</td>\n",
       "      <td>0</td>\n",
       "      <td>18.0</td>\n",
       "      <td>5</td>\n",
       "      <td>364</td>\n",
       "    </tr>\n",
       "    <tr>\n",
       "      <th>2144530</th>\n",
       "      <td>2023-12-30 19:00:00</td>\n",
       "      <td>19</td>\n",
       "      <td>0</td>\n",
       "      <td>19.0</td>\n",
       "      <td>5</td>\n",
       "      <td>364</td>\n",
       "    </tr>\n",
       "    <tr>\n",
       "      <th>2144531</th>\n",
       "      <td>2023-12-30 20:00:00</td>\n",
       "      <td>20</td>\n",
       "      <td>0</td>\n",
       "      <td>20.0</td>\n",
       "      <td>5</td>\n",
       "      <td>364</td>\n",
       "    </tr>\n",
       "    <tr>\n",
       "      <th>2144532</th>\n",
       "      <td>2023-12-30 21:00:00</td>\n",
       "      <td>21</td>\n",
       "      <td>0</td>\n",
       "      <td>21.0</td>\n",
       "      <td>5</td>\n",
       "      <td>364</td>\n",
       "    </tr>\n",
       "    <tr>\n",
       "      <th>2144533</th>\n",
       "      <td>2023-12-30 22:00:00</td>\n",
       "      <td>22</td>\n",
       "      <td>0</td>\n",
       "      <td>22.0</td>\n",
       "      <td>5</td>\n",
       "      <td>364</td>\n",
       "    </tr>\n",
       "    <tr>\n",
       "      <th>2144534</th>\n",
       "      <td>2023-12-30 23:00:00</td>\n",
       "      <td>23</td>\n",
       "      <td>0</td>\n",
       "      <td>23.0</td>\n",
       "      <td>5</td>\n",
       "      <td>364</td>\n",
       "    </tr>\n",
       "    <tr>\n",
       "      <th>2144535</th>\n",
       "      <td>2023-12-31 00:00:00</td>\n",
       "      <td>0</td>\n",
       "      <td>0</td>\n",
       "      <td>0.0</td>\n",
       "      <td>6</td>\n",
       "      <td>365</td>\n",
       "    </tr>\n",
       "  </tbody>\n",
       "</table>\n",
       "</div>"
      ],
      "text/plain": [
       "                   datetime  hours  minutes  hour_decimal  day_of_week  \\\n",
       "2144526 2023-12-30 15:00:00     15        0          15.0            5   \n",
       "2144527 2023-12-30 16:00:00     16        0          16.0            5   \n",
       "2144528 2023-12-30 17:00:00     17        0          17.0            5   \n",
       "2144529 2023-12-30 18:00:00     18        0          18.0            5   \n",
       "2144530 2023-12-30 19:00:00     19        0          19.0            5   \n",
       "2144531 2023-12-30 20:00:00     20        0          20.0            5   \n",
       "2144532 2023-12-30 21:00:00     21        0          21.0            5   \n",
       "2144533 2023-12-30 22:00:00     22        0          22.0            5   \n",
       "2144534 2023-12-30 23:00:00     23        0          23.0            5   \n",
       "2144535 2023-12-31 00:00:00      0        0           0.0            6   \n",
       "\n",
       "         day_of_year  \n",
       "2144526          364  \n",
       "2144527          364  \n",
       "2144528          364  \n",
       "2144529          364  \n",
       "2144530          364  \n",
       "2144531          364  \n",
       "2144532          364  \n",
       "2144533          364  \n",
       "2144534          364  \n",
       "2144535          365  "
      ]
     },
     "execution_count": 26,
     "metadata": {},
     "output_type": "execute_result"
    }
   ],
   "source": [
    "# Split 'time[h:mm]' into hours and minutes and convert them to integers\n",
    "df_ml['hours'], df_ml['minutes'] = zip(*df_ml['time'].str.split(':').apply(lambda x: [int(i) for i in x]))\n",
    "\n",
    "# Calculate decimal hour -> 21.5\n",
    "df_ml['hour_decimal'] = df_ml['hours'] + df_ml['minutes'] / 60\n",
    "\n",
    "# Extract day of the week and day of the year\n",
    "df_ml['day_of_week'] = df_ml['datetime'].dt.dayofweek\n",
    "df_ml['day_of_year'] = df_ml['datetime'].dt.dayofyear\n",
    "df_ml['year'] = df_ml['datetime'].dt.year\n",
    "\n",
    "# Convert to numerical values for ML\n",
    "df_ml['hours'] = pd.to_numeric(df_ml['hours'])\n",
    "df_ml['minutes'] = pd.to_numeric(df_ml['minutes'])\n",
    "df_ml['day_of_week'] = pd.to_numeric(df_ml['day_of_week'])\n",
    "df_ml['day_of_year'] = pd.to_numeric(df_ml['day_of_year'])\n",
    "df_ml['year'] = pd.to_numeric(df_ml['year'])\n",
    "\n",
    "df_ml[['datetime', 'hours', 'minutes', 'hour_decimal', 'day_of_week', 'day_of_year']].tail(10)"
   ]
  },
  {
   "cell_type": "markdown",
   "metadata": {},
   "source": [
    "Preserving the cyclical nature of your inputs. We want our machine learning algorithm to know that 1 day of the week is close to 7th day of the week."
   ]
  },
  {
   "cell_type": "code",
   "execution_count": 27,
   "metadata": {},
   "outputs": [],
   "source": [
    "# Convert 'day_of_week', 'day_of_year', and 'hour_decimal' to their sine and cosine transformations\n",
    "df_ml['sin_day_of_week'] = np.sin(2 * np.pi * df_ml['day_of_week']/max(df_ml['day_of_week']))\n",
    "df_ml['cos_day_of_week'] = np.cos(2 * np.pi * df_ml['day_of_week']/max(df_ml['day_of_week']))\n",
    "df_ml['sin_day_of_year'] = np.sin(2 * np.pi * df_ml['day_of_year']/max(df_ml['day_of_year']))\n",
    "df_ml['cos_day_of_year'] = np.cos(2 * np.pi * df_ml['day_of_year']/max(df_ml['day_of_year']))\n",
    "df_ml['sin_hour_decimal'] = np.sin(2 * np.pi * df_ml['hour_decimal']/max(df_ml['hour_decimal']))\n",
    "df_ml['cos_hour_decimal'] = np.cos(2 * np.pi * df_ml['hour_decimal']/max(df_ml['hour_decimal']))"
   ]
  },
  {
   "cell_type": "code",
   "execution_count": 28,
   "metadata": {},
   "outputs": [
    {
     "data": {
      "text/html": [
       "<div>\n",
       "<style scoped>\n",
       "    .dataframe tbody tr th:only-of-type {\n",
       "        vertical-align: middle;\n",
       "    }\n",
       "\n",
       "    .dataframe tbody tr th {\n",
       "        vertical-align: top;\n",
       "    }\n",
       "\n",
       "    .dataframe thead th {\n",
       "        text-align: right;\n",
       "    }\n",
       "</style>\n",
       "<table border=\"1\" class=\"dataframe\">\n",
       "  <thead>\n",
       "    <tr style=\"text-align: right;\">\n",
       "      <th></th>\n",
       "      <th>datetime</th>\n",
       "      <th>hours</th>\n",
       "      <th>minutes</th>\n",
       "      <th>hour_decimal</th>\n",
       "      <th>day_of_week</th>\n",
       "      <th>day_of_year</th>\n",
       "    </tr>\n",
       "  </thead>\n",
       "  <tbody>\n",
       "    <tr>\n",
       "      <th>2144436</th>\n",
       "      <td>2023-12-22 00:00:00</td>\n",
       "      <td>0</td>\n",
       "      <td>0</td>\n",
       "      <td>0.0</td>\n",
       "      <td>4</td>\n",
       "      <td>356</td>\n",
       "    </tr>\n",
       "    <tr>\n",
       "      <th>2144437</th>\n",
       "      <td>2023-12-22 01:00:00</td>\n",
       "      <td>1</td>\n",
       "      <td>0</td>\n",
       "      <td>1.0</td>\n",
       "      <td>4</td>\n",
       "      <td>356</td>\n",
       "    </tr>\n",
       "    <tr>\n",
       "      <th>2144438</th>\n",
       "      <td>2023-12-22 02:00:00</td>\n",
       "      <td>2</td>\n",
       "      <td>0</td>\n",
       "      <td>2.0</td>\n",
       "      <td>4</td>\n",
       "      <td>356</td>\n",
       "    </tr>\n",
       "    <tr>\n",
       "      <th>2144439</th>\n",
       "      <td>2023-12-22 03:00:00</td>\n",
       "      <td>3</td>\n",
       "      <td>0</td>\n",
       "      <td>3.0</td>\n",
       "      <td>4</td>\n",
       "      <td>356</td>\n",
       "    </tr>\n",
       "    <tr>\n",
       "      <th>2144440</th>\n",
       "      <td>2023-12-22 04:00:00</td>\n",
       "      <td>4</td>\n",
       "      <td>0</td>\n",
       "      <td>4.0</td>\n",
       "      <td>4</td>\n",
       "      <td>356</td>\n",
       "    </tr>\n",
       "    <tr>\n",
       "      <th>...</th>\n",
       "      <td>...</td>\n",
       "      <td>...</td>\n",
       "      <td>...</td>\n",
       "      <td>...</td>\n",
       "      <td>...</td>\n",
       "      <td>...</td>\n",
       "    </tr>\n",
       "    <tr>\n",
       "      <th>2144531</th>\n",
       "      <td>2023-12-30 20:00:00</td>\n",
       "      <td>20</td>\n",
       "      <td>0</td>\n",
       "      <td>20.0</td>\n",
       "      <td>5</td>\n",
       "      <td>364</td>\n",
       "    </tr>\n",
       "    <tr>\n",
       "      <th>2144532</th>\n",
       "      <td>2023-12-30 21:00:00</td>\n",
       "      <td>21</td>\n",
       "      <td>0</td>\n",
       "      <td>21.0</td>\n",
       "      <td>5</td>\n",
       "      <td>364</td>\n",
       "    </tr>\n",
       "    <tr>\n",
       "      <th>2144533</th>\n",
       "      <td>2023-12-30 22:00:00</td>\n",
       "      <td>22</td>\n",
       "      <td>0</td>\n",
       "      <td>22.0</td>\n",
       "      <td>5</td>\n",
       "      <td>364</td>\n",
       "    </tr>\n",
       "    <tr>\n",
       "      <th>2144534</th>\n",
       "      <td>2023-12-30 23:00:00</td>\n",
       "      <td>23</td>\n",
       "      <td>0</td>\n",
       "      <td>23.0</td>\n",
       "      <td>5</td>\n",
       "      <td>364</td>\n",
       "    </tr>\n",
       "    <tr>\n",
       "      <th>2144535</th>\n",
       "      <td>2023-12-31 00:00:00</td>\n",
       "      <td>0</td>\n",
       "      <td>0</td>\n",
       "      <td>0.0</td>\n",
       "      <td>6</td>\n",
       "      <td>365</td>\n",
       "    </tr>\n",
       "  </tbody>\n",
       "</table>\n",
       "<p>100 rows × 6 columns</p>\n",
       "</div>"
      ],
      "text/plain": [
       "                   datetime  hours  minutes  hour_decimal  day_of_week  \\\n",
       "2144436 2023-12-22 00:00:00      0        0           0.0            4   \n",
       "2144437 2023-12-22 01:00:00      1        0           1.0            4   \n",
       "2144438 2023-12-22 02:00:00      2        0           2.0            4   \n",
       "2144439 2023-12-22 03:00:00      3        0           3.0            4   \n",
       "2144440 2023-12-22 04:00:00      4        0           4.0            4   \n",
       "...                     ...    ...      ...           ...          ...   \n",
       "2144531 2023-12-30 20:00:00     20        0          20.0            5   \n",
       "2144532 2023-12-30 21:00:00     21        0          21.0            5   \n",
       "2144533 2023-12-30 22:00:00     22        0          22.0            5   \n",
       "2144534 2023-12-30 23:00:00     23        0          23.0            5   \n",
       "2144535 2023-12-31 00:00:00      0        0           0.0            6   \n",
       "\n",
       "         day_of_year  \n",
       "2144436          356  \n",
       "2144437          356  \n",
       "2144438          356  \n",
       "2144439          356  \n",
       "2144440          356  \n",
       "...              ...  \n",
       "2144531          364  \n",
       "2144532          364  \n",
       "2144533          364  \n",
       "2144534          364  \n",
       "2144535          365  \n",
       "\n",
       "[100 rows x 6 columns]"
      ]
     },
     "execution_count": 28,
     "metadata": {},
     "output_type": "execute_result"
    }
   ],
   "source": [
    "# Print the original values\n",
    "df_ml[['datetime', 'hours', 'minutes', 'hour_decimal', 'day_of_week', 'day_of_year']].tail(100)"
   ]
  },
  {
   "cell_type": "code",
   "execution_count": 29,
   "metadata": {},
   "outputs": [
    {
     "data": {
      "text/html": [
       "<div>\n",
       "<style scoped>\n",
       "    .dataframe tbody tr th:only-of-type {\n",
       "        vertical-align: middle;\n",
       "    }\n",
       "\n",
       "    .dataframe tbody tr th {\n",
       "        vertical-align: top;\n",
       "    }\n",
       "\n",
       "    .dataframe thead th {\n",
       "        text-align: right;\n",
       "    }\n",
       "</style>\n",
       "<table border=\"1\" class=\"dataframe\">\n",
       "  <thead>\n",
       "    <tr style=\"text-align: right;\">\n",
       "      <th></th>\n",
       "      <th>sin_day_of_week</th>\n",
       "      <th>cos_day_of_week</th>\n",
       "      <th>sin_day_of_year</th>\n",
       "      <th>cos_day_of_year</th>\n",
       "      <th>sin_hour_decimal</th>\n",
       "      <th>cos_hour_decimal</th>\n",
       "    </tr>\n",
       "  </thead>\n",
       "  <tbody>\n",
       "    <tr>\n",
       "      <th>2144531</th>\n",
       "      <td>-8.660254e-01</td>\n",
       "      <td>0.5</td>\n",
       "      <td>-0.034328</td>\n",
       "      <td>0.999411</td>\n",
       "      <td>-0.744156</td>\n",
       "      <td>0.668006</td>\n",
       "    </tr>\n",
       "    <tr>\n",
       "      <th>2144532</th>\n",
       "      <td>-8.660254e-01</td>\n",
       "      <td>0.5</td>\n",
       "      <td>-0.034328</td>\n",
       "      <td>0.999411</td>\n",
       "      <td>-0.537167</td>\n",
       "      <td>0.843476</td>\n",
       "    </tr>\n",
       "    <tr>\n",
       "      <th>2144533</th>\n",
       "      <td>-8.660254e-01</td>\n",
       "      <td>0.5</td>\n",
       "      <td>-0.034328</td>\n",
       "      <td>0.999411</td>\n",
       "      <td>-0.290624</td>\n",
       "      <td>0.956837</td>\n",
       "    </tr>\n",
       "    <tr>\n",
       "      <th>2144534</th>\n",
       "      <td>-8.660254e-01</td>\n",
       "      <td>0.5</td>\n",
       "      <td>-0.034328</td>\n",
       "      <td>0.999411</td>\n",
       "      <td>-0.022681</td>\n",
       "      <td>0.999743</td>\n",
       "    </tr>\n",
       "    <tr>\n",
       "      <th>2144535</th>\n",
       "      <td>-2.449294e-16</td>\n",
       "      <td>1.0</td>\n",
       "      <td>-0.017166</td>\n",
       "      <td>0.999853</td>\n",
       "      <td>0.000000</td>\n",
       "      <td>1.000000</td>\n",
       "    </tr>\n",
       "  </tbody>\n",
       "</table>\n",
       "</div>"
      ],
      "text/plain": [
       "         sin_day_of_week  cos_day_of_week  sin_day_of_year  cos_day_of_year  \\\n",
       "2144531    -8.660254e-01              0.5        -0.034328         0.999411   \n",
       "2144532    -8.660254e-01              0.5        -0.034328         0.999411   \n",
       "2144533    -8.660254e-01              0.5        -0.034328         0.999411   \n",
       "2144534    -8.660254e-01              0.5        -0.034328         0.999411   \n",
       "2144535    -2.449294e-16              1.0        -0.017166         0.999853   \n",
       "\n",
       "         sin_hour_decimal  cos_hour_decimal  \n",
       "2144531         -0.744156          0.668006  \n",
       "2144532         -0.537167          0.843476  \n",
       "2144533         -0.290624          0.956837  \n",
       "2144534         -0.022681          0.999743  \n",
       "2144535          0.000000          1.000000  "
      ]
     },
     "execution_count": 29,
     "metadata": {},
     "output_type": "execute_result"
    }
   ],
   "source": [
    "# Print the transformed values\n",
    "df_ml[['sin_day_of_week', 'cos_day_of_week', 'sin_day_of_year', 'cos_day_of_year', 'sin_hour_decimal', 'cos_hour_decimal']].tail()"
   ]
  },
  {
   "cell_type": "code",
   "execution_count": 52,
   "metadata": {},
   "outputs": [
    {
     "data": {
      "image/png": "[encoded data removed]",
      "text/plain": [
       "<Figure size 1600x1200 with 1 Axes>"
      ]
     },
     "metadata": {},
     "output_type": "display_data"
    }
   ],
   "source": [
    "samples = 200 # sample size for clarity of the plot\n",
    "scale = df_ml['hour_decimal'].iloc[:samples].max() - df_ml['sin_hour_decimal'].iloc[:samples].max()\n",
    "plt.figure(figsize=(16, 12)) \n",
    "plt.plot(df_ml['sin_hour_decimal'].iloc[:samples]*scale, label='sin_hour')\n",
    "plt.plot(df_ml['cos_hour_decimal'].iloc[:samples]*scale, label='cos_hour')\n",
    "plt.plot(df_ml['hour_decimal'].iloc[:samples], label='hour_decimal')\n",
    "plt.title(f'Sine and Cosine Transformations of Hour for First {samples} Data Points (Hour Decimal Included)')\n",
    "plt.xlabel('Index')\n",
    "plt.ylabel('Value')\n",
    "plt.legend()\n",
    "plt.show()"
   ]
  },
  {
   "cell_type": "code",
   "execution_count": 53,
   "metadata": {},
   "outputs": [
    {
     "data": {
      "image/png": "[encoded data removed]",
      "text/plain": [
       "<Figure size 640x480 with 1 Axes>"
      ]
     },
     "metadata": {},
     "output_type": "display_data"
    },
    {
     "data": {
      "text/plain": [
       "<Figure size 1600x1600 with 0 Axes>"
      ]
     },
     "metadata": {},
     "output_type": "display_data"
    }
   ],
   "source": [
    "plt.scatter(df_ml['sin_hour_decimal'], df_ml['cos_hour_decimal'])\n",
    "plt.title('Scatter Plot of Sine and Cosine Transformations of Hour')\n",
    "plt.xlabel('sin_hour_decimal')\n",
    "plt.ylabel('cos_hour_decimal')\n",
    "plt.figure(figsize=(16, 16))\n",
    "plt.show()"
   ]
  },
  {
   "cell_type": "markdown",
   "metadata": {},
   "source": [
    "### Cutting values that have one unique value across dataset"
   ]
  },
  {
   "cell_type": "code",
   "execution_count": 30,
   "metadata": {},
   "outputs": [
    {
     "data": {
      "text/plain": [
       "(2144536, 23)"
      ]
     },
     "execution_count": 30,
     "metadata": {},
     "output_type": "execute_result"
    }
   ],
   "source": [
    "df_ml.shape"
   ]
  },
  {
   "cell_type": "code",
   "execution_count": 55,
   "metadata": {},
   "outputs": [
    {
     "name": "stdout",
     "output_type": "stream",
     "text": [
      "Column datetime has 33856 unique values.\n",
      "Column time has 48 unique values.\n",
      "Column precip has 308 unique values.\n",
      "Column temp has 525 unique values.\n",
      "Column pressure has 8510 unique values.\n",
      "Column humidity has 99 unique values.\n",
      "Column wind_speed has 8680 unique values.\n",
      "Column wind_gust has 113 unique values.\n",
      "Column lat has 79 unique values.\n",
      "Column lon has 79 unique values.\n",
      "Column PET has 744 unique values.\n",
      "Column hours has 24 unique values.\n",
      "Column minutes has 9 unique values.\n",
      "Column hour_decimal has 48 unique values.\n",
      "Column day_of_week has 7 unique values.\n",
      "Column day_of_year has 366 unique values.\n",
      "Column sin_day_of_week has 7 unique values.\n",
      "Column cos_day_of_week has 5 unique values.\n",
      "Column sin_day_of_year has 324 unique values.\n",
      "Column cos_day_of_year has 337 unique values.\n",
      "Column sin_hour_decimal has 48 unique values.\n",
      "Column cos_hour_decimal has 47 unique values.\n",
      "We had 22 values, now we have 22\n"
     ]
    },
    {
     "data": {
      "text/plain": [
       "0          0\n",
       "1          0\n",
       "2          0\n",
       "3          0\n",
       "4          0\n",
       "          ..\n",
       "2144531    0\n",
       "2144532    0\n",
       "2144533    0\n",
       "2144534    0\n",
       "2144535    0\n",
       "Name: minutes, Length: 2144536, dtype: int64"
      ]
     },
     "execution_count": 55,
     "metadata": {},
     "output_type": "execute_result"
    }
   ],
   "source": [
    "for column in df_ml.columns:\n",
    "    # Check the number of unique entries in each column as they don't provide any useful information for ML\n",
    "    print(f\"Column {column} has {df_ml[column].nunique()} unique values.\")\n",
    "    if df_ml[column].nunique() <= 1:\n",
    "        df_ml.drop(column, axis=1, inplace=True)\n",
    "\n",
    "# Check the dimensions of df_corr to verify the number of rows and columns\n",
    "print(f\"We had {df_ml.shape[1]} values, now we have {df_ml.shape[1]}\")  \n",
    "df_ml['minutes']"
   ]
  },
  {
   "cell_type": "markdown",
   "metadata": {},
   "source": [
    "## Check final df"
   ]
  },
  {
   "cell_type": "code",
   "execution_count": 32,
   "metadata": {},
   "outputs": [
    {
     "data": {
      "text/plain": [
       "{'missing_values': {'datetime': 0,\n",
       "  'time': 0,\n",
       "  'precip': 0,\n",
       "  'temp': 0,\n",
       "  'pressure': 0,\n",
       "  'humidity': 0,\n",
       "  'wind_speed': 0,\n",
       "  'wind_gust': 0,\n",
       "  'lat': 0,\n",
       "  'lon': 0,\n",
       "  'PET': 0,\n",
       "  'hours': 0,\n",
       "  'minutes': 0,\n",
       "  'hour_decimal': 0,\n",
       "  'day_of_week': 0,\n",
       "  'day_of_year': 0,\n",
       "  'year': 0,\n",
       "  'sin_day_of_week': 0,\n",
       "  'cos_day_of_week': 0,\n",
       "  'sin_day_of_year': 0,\n",
       "  'cos_day_of_year': 0,\n",
       "  'sin_hour_decimal': 0,\n",
       "  'cos_hour_decimal': 0},\n",
       " 'missing_percent': {'datetime': 0.0,\n",
       "  'minutes': 0.0,\n",
       "  'sin_hour_decimal': 0.0,\n",
       "  'cos_day_of_year': 0.0,\n",
       "  'sin_day_of_year': 0.0,\n",
       "  'cos_day_of_week': 0.0,\n",
       "  'sin_day_of_week': 0.0,\n",
       "  'year': 0.0,\n",
       "  'day_of_year': 0.0,\n",
       "  'day_of_week': 0.0,\n",
       "  'hour_decimal': 0.0,\n",
       "  'hours': 0.0,\n",
       "  'time': 0.0,\n",
       "  'PET': 0.0,\n",
       "  'lon': 0.0,\n",
       "  'lat': 0.0,\n",
       "  'wind_gust': 0.0,\n",
       "  'wind_speed': 0.0,\n",
       "  'humidity': 0.0,\n",
       "  'pressure': 0.0,\n",
       "  'temp': 0.0,\n",
       "  'precip': 0.0,\n",
       "  'cos_hour_decimal': 0.0},\n",
       " 'data_types': {'datetime': dtype('<M8[ns]'),\n",
       "  'time': dtype('O'),\n",
       "  'precip': dtype('float64'),\n",
       "  'temp': dtype('float64'),\n",
       "  'pressure': dtype('float64'),\n",
       "  'humidity': dtype('float64'),\n",
       "  'wind_speed': dtype('float64'),\n",
       "  'wind_gust': dtype('float64'),\n",
       "  'lat': dtype('float64'),\n",
       "  'lon': dtype('float64'),\n",
       "  'PET': dtype('float64'),\n",
       "  'hours': dtype('int64'),\n",
       "  'minutes': dtype('int64'),\n",
       "  'hour_decimal': dtype('float64'),\n",
       "  'day_of_week': dtype('int32'),\n",
       "  'day_of_year': dtype('int32'),\n",
       "  'year': dtype('int32'),\n",
       "  'sin_day_of_week': dtype('float64'),\n",
       "  'cos_day_of_week': dtype('float64'),\n",
       "  'sin_day_of_year': dtype('float64'),\n",
       "  'cos_day_of_year': dtype('float64'),\n",
       "  'sin_hour_decimal': dtype('float64'),\n",
       "  'cos_hour_decimal': dtype('float64')},\n",
       " 'non_numeric_columns': ['datetime',\n",
       "  'time',\n",
       "  'day_of_week',\n",
       "  'day_of_year',\n",
       "  'year']}"
      ]
     },
     "execution_count": 32,
     "metadata": {},
     "output_type": "execute_result"
    }
   ],
   "source": [
    "check_dataframe_for_ml(df_ml)"
   ]
  },
  {
   "cell_type": "markdown",
   "metadata": {},
   "source": [
    "## Adding Solar position to the data"
   ]
  },
  {
   "cell_type": "markdown",
   "metadata": {},
   "source": [
    "- https://github.com/pvlib/pvlib-python\n",
    "- https://pvlib-python.readthedocs.io/en/stable/reference/generated/pvlib.solarposition.get_solarposition.html"
   ]
  },
  {
   "cell_type": "code",
   "execution_count": 58,
   "metadata": {},
   "outputs": [
    {
     "data": {
      "text/plain": [
       "Index(['datetime', 'time', 'precip', 'temp', 'pressure', 'humidity',\n",
       "       'wind_speed', 'wind_gust', 'lat', 'lon', 'PET', 'hours', 'minutes',\n",
       "       'hour_decimal', 'day_of_week', 'day_of_year', 'sin_day_of_week',\n",
       "       'cos_day_of_week', 'sin_day_of_year', 'cos_day_of_year',\n",
       "       'sin_hour_decimal', 'cos_hour_decimal'],\n",
       "      dtype='object')"
      ]
     },
     "execution_count": 58,
     "metadata": {},
     "output_type": "execute_result"
    }
   ],
   "source": [
    "df_ml.columns"
   ]
  },
  {
   "cell_type": "code",
   "execution_count": 33,
   "metadata": {},
   "outputs": [
    {
     "data": {
      "text/html": [
       "<div>\n",
       "<style scoped>\n",
       "    .dataframe tbody tr th:only-of-type {\n",
       "        vertical-align: middle;\n",
       "    }\n",
       "\n",
       "    .dataframe tbody tr th {\n",
       "        vertical-align: top;\n",
       "    }\n",
       "\n",
       "    .dataframe thead th {\n",
       "        text-align: right;\n",
       "    }\n",
       "</style>\n",
       "<table border=\"1\" class=\"dataframe\">\n",
       "  <thead>\n",
       "    <tr style=\"text-align: right;\">\n",
       "      <th></th>\n",
       "      <th>datetime</th>\n",
       "      <th>time</th>\n",
       "      <th>precip</th>\n",
       "      <th>temp</th>\n",
       "      <th>pressure</th>\n",
       "      <th>humidity</th>\n",
       "      <th>wind_speed</th>\n",
       "      <th>wind_gust</th>\n",
       "      <th>lat</th>\n",
       "      <th>lon</th>\n",
       "      <th>...</th>\n",
       "      <th>hour_decimal</th>\n",
       "      <th>day_of_week</th>\n",
       "      <th>day_of_year</th>\n",
       "      <th>year</th>\n",
       "      <th>sin_day_of_week</th>\n",
       "      <th>cos_day_of_week</th>\n",
       "      <th>sin_day_of_year</th>\n",
       "      <th>cos_day_of_year</th>\n",
       "      <th>sin_hour_decimal</th>\n",
       "      <th>cos_hour_decimal</th>\n",
       "    </tr>\n",
       "    <tr>\n",
       "      <th>datetime</th>\n",
       "      <th></th>\n",
       "      <th></th>\n",
       "      <th></th>\n",
       "      <th></th>\n",
       "      <th></th>\n",
       "      <th></th>\n",
       "      <th></th>\n",
       "      <th></th>\n",
       "      <th></th>\n",
       "      <th></th>\n",
       "      <th></th>\n",
       "      <th></th>\n",
       "      <th></th>\n",
       "      <th></th>\n",
       "      <th></th>\n",
       "      <th></th>\n",
       "      <th></th>\n",
       "      <th></th>\n",
       "      <th></th>\n",
       "      <th></th>\n",
       "      <th></th>\n",
       "    </tr>\n",
       "  </thead>\n",
       "  <tbody>\n",
       "    <tr>\n",
       "      <th>2020-01-01 00:00:00</th>\n",
       "      <td>2020-01-01 00:00:00</td>\n",
       "      <td>00:00</td>\n",
       "      <td>0.0</td>\n",
       "      <td>3.5</td>\n",
       "      <td>103131.0</td>\n",
       "      <td>97.0</td>\n",
       "      <td>8.475000</td>\n",
       "      <td>17.7</td>\n",
       "      <td>50.980438</td>\n",
       "      <td>3.815763</td>\n",
       "      <td>...</td>\n",
       "      <td>0.0</td>\n",
       "      <td>2</td>\n",
       "      <td>1</td>\n",
       "      <td>2020</td>\n",
       "      <td>0.866025</td>\n",
       "      <td>-0.5</td>\n",
       "      <td>0.017166</td>\n",
       "      <td>0.999853</td>\n",
       "      <td>0.000000</td>\n",
       "      <td>1.000000</td>\n",
       "    </tr>\n",
       "    <tr>\n",
       "      <th>2020-01-01 01:00:00</th>\n",
       "      <td>2020-01-01 01:00:00</td>\n",
       "      <td>01:00</td>\n",
       "      <td>0.0</td>\n",
       "      <td>3.8</td>\n",
       "      <td>103089.0</td>\n",
       "      <td>97.0</td>\n",
       "      <td>6.391667</td>\n",
       "      <td>14.5</td>\n",
       "      <td>50.980438</td>\n",
       "      <td>3.815763</td>\n",
       "      <td>...</td>\n",
       "      <td>1.0</td>\n",
       "      <td>2</td>\n",
       "      <td>1</td>\n",
       "      <td>2020</td>\n",
       "      <td>0.866025</td>\n",
       "      <td>-0.5</td>\n",
       "      <td>0.017166</td>\n",
       "      <td>0.999853</td>\n",
       "      <td>0.268847</td>\n",
       "      <td>0.963183</td>\n",
       "    </tr>\n",
       "    <tr>\n",
       "      <th>2020-01-01 02:00:00</th>\n",
       "      <td>2020-01-01 02:00:00</td>\n",
       "      <td>02:00</td>\n",
       "      <td>0.0</td>\n",
       "      <td>3.9</td>\n",
       "      <td>103035.0</td>\n",
       "      <td>96.0</td>\n",
       "      <td>7.458333</td>\n",
       "      <td>16.1</td>\n",
       "      <td>50.980438</td>\n",
       "      <td>3.815763</td>\n",
       "      <td>...</td>\n",
       "      <td>2.0</td>\n",
       "      <td>2</td>\n",
       "      <td>1</td>\n",
       "      <td>2020</td>\n",
       "      <td>0.866025</td>\n",
       "      <td>-0.5</td>\n",
       "      <td>0.017166</td>\n",
       "      <td>0.999853</td>\n",
       "      <td>0.517898</td>\n",
       "      <td>0.855443</td>\n",
       "    </tr>\n",
       "    <tr>\n",
       "      <th>2020-01-01 03:00:00</th>\n",
       "      <td>2020-01-01 03:00:00</td>\n",
       "      <td>03:00</td>\n",
       "      <td>0.0</td>\n",
       "      <td>3.7</td>\n",
       "      <td>102981.0</td>\n",
       "      <td>95.0</td>\n",
       "      <td>6.266667</td>\n",
       "      <td>17.7</td>\n",
       "      <td>50.980438</td>\n",
       "      <td>3.815763</td>\n",
       "      <td>...</td>\n",
       "      <td>3.0</td>\n",
       "      <td>2</td>\n",
       "      <td>1</td>\n",
       "      <td>2020</td>\n",
       "      <td>0.866025</td>\n",
       "      <td>-0.5</td>\n",
       "      <td>0.017166</td>\n",
       "      <td>0.999853</td>\n",
       "      <td>0.728813</td>\n",
       "      <td>0.684712</td>\n",
       "    </tr>\n",
       "    <tr>\n",
       "      <th>2020-01-01 04:00:00</th>\n",
       "      <td>2020-01-01 04:00:00</td>\n",
       "      <td>04:00</td>\n",
       "      <td>0.0</td>\n",
       "      <td>3.4</td>\n",
       "      <td>102924.0</td>\n",
       "      <td>95.0</td>\n",
       "      <td>3.550000</td>\n",
       "      <td>8.1</td>\n",
       "      <td>50.980438</td>\n",
       "      <td>3.815763</td>\n",
       "      <td>...</td>\n",
       "      <td>4.0</td>\n",
       "      <td>2</td>\n",
       "      <td>1</td>\n",
       "      <td>2020</td>\n",
       "      <td>0.866025</td>\n",
       "      <td>-0.5</td>\n",
       "      <td>0.017166</td>\n",
       "      <td>0.999853</td>\n",
       "      <td>0.886063</td>\n",
       "      <td>0.463564</td>\n",
       "    </tr>\n",
       "  </tbody>\n",
       "</table>\n",
       "<p>5 rows × 23 columns</p>\n",
       "</div>"
      ],
      "text/plain": [
       "                               datetime   time  precip  temp  pressure  \\\n",
       "datetime                                                                 \n",
       "2020-01-01 00:00:00 2020-01-01 00:00:00  00:00     0.0   3.5  103131.0   \n",
       "2020-01-01 01:00:00 2020-01-01 01:00:00  01:00     0.0   3.8  103089.0   \n",
       "2020-01-01 02:00:00 2020-01-01 02:00:00  02:00     0.0   3.9  103035.0   \n",
       "2020-01-01 03:00:00 2020-01-01 03:00:00  03:00     0.0   3.7  102981.0   \n",
       "2020-01-01 04:00:00 2020-01-01 04:00:00  04:00     0.0   3.4  102924.0   \n",
       "\n",
       "                     humidity  wind_speed  wind_gust        lat       lon  \\\n",
       "datetime                                                                    \n",
       "2020-01-01 00:00:00      97.0    8.475000       17.7  50.980438  3.815763   \n",
       "2020-01-01 01:00:00      97.0    6.391667       14.5  50.980438  3.815763   \n",
       "2020-01-01 02:00:00      96.0    7.458333       16.1  50.980438  3.815763   \n",
       "2020-01-01 03:00:00      95.0    6.266667       17.7  50.980438  3.815763   \n",
       "2020-01-01 04:00:00      95.0    3.550000        8.1  50.980438  3.815763   \n",
       "\n",
       "                     ...  hour_decimal  day_of_week  day_of_year  year  \\\n",
       "datetime             ...                                                 \n",
       "2020-01-01 00:00:00  ...           0.0            2            1  2020   \n",
       "2020-01-01 01:00:00  ...           1.0            2            1  2020   \n",
       "2020-01-01 02:00:00  ...           2.0            2            1  2020   \n",
       "2020-01-01 03:00:00  ...           3.0            2            1  2020   \n",
       "2020-01-01 04:00:00  ...           4.0            2            1  2020   \n",
       "\n",
       "                     sin_day_of_week  cos_day_of_week  sin_day_of_year  \\\n",
       "datetime                                                                 \n",
       "2020-01-01 00:00:00         0.866025             -0.5         0.017166   \n",
       "2020-01-01 01:00:00         0.866025             -0.5         0.017166   \n",
       "2020-01-01 02:00:00         0.866025             -0.5         0.017166   \n",
       "2020-01-01 03:00:00         0.866025             -0.5         0.017166   \n",
       "2020-01-01 04:00:00         0.866025             -0.5         0.017166   \n",
       "\n",
       "                     cos_day_of_year  sin_hour_decimal  cos_hour_decimal  \n",
       "datetime                                                                  \n",
       "2020-01-01 00:00:00         0.999853          0.000000          1.000000  \n",
       "2020-01-01 01:00:00         0.999853          0.268847          0.963183  \n",
       "2020-01-01 02:00:00         0.999853          0.517898          0.855443  \n",
       "2020-01-01 03:00:00         0.999853          0.728813          0.684712  \n",
       "2020-01-01 04:00:00         0.999853          0.886063          0.463564  \n",
       "\n",
       "[5 rows x 23 columns]"
      ]
     },
     "execution_count": 33,
     "metadata": {},
     "output_type": "execute_result"
    }
   ],
   "source": [
    "# Set 'datetime' column as the index need for solar calculations\n",
    "df_corr = df_ml.copy()\n",
    "df_corr.set_index(df_ml['datetime'], inplace=True)\n",
    "df_corr.head()"
   ]
  },
  {
   "cell_type": "code",
   "execution_count": 60,
   "metadata": {},
   "outputs": [
    {
     "data": {
      "text/plain": [
       "Index(['datetime', 'time', 'precip', 'temp', 'pressure', 'humidity',\n",
       "       'wind_speed', 'wind_gust', 'lat', 'lon', 'PET', 'hours', 'minutes',\n",
       "       'hour_decimal', 'day_of_week', 'day_of_year', 'sin_day_of_week',\n",
       "       'cos_day_of_week', 'sin_day_of_year', 'cos_day_of_year',\n",
       "       'sin_hour_decimal', 'cos_hour_decimal'],\n",
       "      dtype='object')"
      ]
     },
     "execution_count": 60,
     "metadata": {},
     "output_type": "execute_result"
    }
   ],
   "source": [
    "df_corr.columns"
   ]
  },
  {
   "cell_type": "code",
   "execution_count": 34,
   "metadata": {},
   "outputs": [],
   "source": [
    "\n",
    "\n",
    "# Calculate solar position\n",
    "solar_position = pvlib.solarposition.get_solarposition(df_corr['datetime'], latitude=df_corr['lat'], longitude=df_corr['lon'], altitude=0, temperature=df_corr[\"temp\"], pressure=df_corr[\"pressure\"])"
   ]
  },
  {
   "cell_type": "code",
   "execution_count": 35,
   "metadata": {},
   "outputs": [
    {
     "data": {
      "text/html": [
       "<div>\n",
       "<style scoped>\n",
       "    .dataframe tbody tr th:only-of-type {\n",
       "        vertical-align: middle;\n",
       "    }\n",
       "\n",
       "    .dataframe tbody tr th {\n",
       "        vertical-align: top;\n",
       "    }\n",
       "\n",
       "    .dataframe thead th {\n",
       "        text-align: right;\n",
       "    }\n",
       "</style>\n",
       "<table border=\"1\" class=\"dataframe\">\n",
       "  <thead>\n",
       "    <tr style=\"text-align: right;\">\n",
       "      <th></th>\n",
       "      <th>apparent_zenith</th>\n",
       "      <th>zenith</th>\n",
       "      <th>apparent_elevation</th>\n",
       "      <th>elevation</th>\n",
       "      <th>azimuth</th>\n",
       "      <th>equation_of_time</th>\n",
       "    </tr>\n",
       "    <tr>\n",
       "      <th>datetime</th>\n",
       "      <th></th>\n",
       "      <th></th>\n",
       "      <th></th>\n",
       "      <th></th>\n",
       "      <th></th>\n",
       "      <th></th>\n",
       "    </tr>\n",
       "  </thead>\n",
       "  <tbody>\n",
       "    <tr>\n",
       "      <th>2020-01-01 00:00:00</th>\n",
       "      <td>151.979662</td>\n",
       "      <td>151.979662</td>\n",
       "      <td>-61.979662</td>\n",
       "      <td>-61.979662</td>\n",
       "      <td>5.970603</td>\n",
       "      <td>-3.081724</td>\n",
       "    </tr>\n",
       "    <tr>\n",
       "      <th>2020-01-01 01:00:00</th>\n",
       "      <td>148.770560</td>\n",
       "      <td>148.770560</td>\n",
       "      <td>-58.770560</td>\n",
       "      <td>-58.770560</td>\n",
       "      <td>33.336701</td>\n",
       "      <td>-3.101587</td>\n",
       "    </tr>\n",
       "    <tr>\n",
       "      <th>2020-01-01 02:00:00</th>\n",
       "      <td>142.176396</td>\n",
       "      <td>142.176396</td>\n",
       "      <td>-52.176396</td>\n",
       "      <td>-52.176396</td>\n",
       "      <td>54.880554</td>\n",
       "      <td>-3.121441</td>\n",
       "    </tr>\n",
       "    <tr>\n",
       "      <th>2020-01-01 03:00:00</th>\n",
       "      <td>133.759222</td>\n",
       "      <td>133.759222</td>\n",
       "      <td>-43.759222</td>\n",
       "      <td>-43.759222</td>\n",
       "      <td>71.297852</td>\n",
       "      <td>-3.141287</td>\n",
       "    </tr>\n",
       "    <tr>\n",
       "      <th>2020-01-01 04:00:00</th>\n",
       "      <td>124.538953</td>\n",
       "      <td>124.538953</td>\n",
       "      <td>-34.538953</td>\n",
       "      <td>-34.538953</td>\n",
       "      <td>84.578404</td>\n",
       "      <td>-3.161123</td>\n",
       "    </tr>\n",
       "    <tr>\n",
       "      <th>...</th>\n",
       "      <td>...</td>\n",
       "      <td>...</td>\n",
       "      <td>...</td>\n",
       "      <td>...</td>\n",
       "      <td>...</td>\n",
       "      <td>...</td>\n",
       "    </tr>\n",
       "    <tr>\n",
       "      <th>2023-12-30 20:00:00</th>\n",
       "      <td>128.878434</td>\n",
       "      <td>128.878434</td>\n",
       "      <td>-38.878434</td>\n",
       "      <td>-38.878434</td>\n",
       "      <td>281.250049</td>\n",
       "      <td>-2.518515</td>\n",
       "    </tr>\n",
       "    <tr>\n",
       "      <th>2023-12-30 21:00:00</th>\n",
       "      <td>137.795747</td>\n",
       "      <td>137.795747</td>\n",
       "      <td>-47.795747</td>\n",
       "      <td>-47.795747</td>\n",
       "      <td>295.770196</td>\n",
       "      <td>-2.538502</td>\n",
       "    </tr>\n",
       "    <tr>\n",
       "      <th>2023-12-30 22:00:00</th>\n",
       "      <td>145.509918</td>\n",
       "      <td>145.509918</td>\n",
       "      <td>-55.509918</td>\n",
       "      <td>-55.509918</td>\n",
       "      <td>314.309953</td>\n",
       "      <td>-2.558482</td>\n",
       "    </tr>\n",
       "    <tr>\n",
       "      <th>2023-12-30 23:00:00</th>\n",
       "      <td>150.737682</td>\n",
       "      <td>150.737682</td>\n",
       "      <td>-60.737682</td>\n",
       "      <td>-60.737682</td>\n",
       "      <td>338.665193</td>\n",
       "      <td>-2.578454</td>\n",
       "    </tr>\n",
       "    <tr>\n",
       "      <th>2023-12-31 00:00:00</th>\n",
       "      <td>151.881046</td>\n",
       "      <td>151.881046</td>\n",
       "      <td>-61.881046</td>\n",
       "      <td>-61.881046</td>\n",
       "      <td>7.516045</td>\n",
       "      <td>-2.598420</td>\n",
       "    </tr>\n",
       "  </tbody>\n",
       "</table>\n",
       "<p>2144536 rows × 6 columns</p>\n",
       "</div>"
      ],
      "text/plain": [
       "                     apparent_zenith      zenith  apparent_elevation  \\\n",
       "datetime                                                               \n",
       "2020-01-01 00:00:00       151.979662  151.979662          -61.979662   \n",
       "2020-01-01 01:00:00       148.770560  148.770560          -58.770560   \n",
       "2020-01-01 02:00:00       142.176396  142.176396          -52.176396   \n",
       "2020-01-01 03:00:00       133.759222  133.759222          -43.759222   \n",
       "2020-01-01 04:00:00       124.538953  124.538953          -34.538953   \n",
       "...                              ...         ...                 ...   \n",
       "2023-12-30 20:00:00       128.878434  128.878434          -38.878434   \n",
       "2023-12-30 21:00:00       137.795747  137.795747          -47.795747   \n",
       "2023-12-30 22:00:00       145.509918  145.509918          -55.509918   \n",
       "2023-12-30 23:00:00       150.737682  150.737682          -60.737682   \n",
       "2023-12-31 00:00:00       151.881046  151.881046          -61.881046   \n",
       "\n",
       "                     elevation     azimuth  equation_of_time  \n",
       "datetime                                                      \n",
       "2020-01-01 00:00:00 -61.979662    5.970603         -3.081724  \n",
       "2020-01-01 01:00:00 -58.770560   33.336701         -3.101587  \n",
       "2020-01-01 02:00:00 -52.176396   54.880554         -3.121441  \n",
       "2020-01-01 03:00:00 -43.759222   71.297852         -3.141287  \n",
       "2020-01-01 04:00:00 -34.538953   84.578404         -3.161123  \n",
       "...                        ...         ...               ...  \n",
       "2023-12-30 20:00:00 -38.878434  281.250049         -2.518515  \n",
       "2023-12-30 21:00:00 -47.795747  295.770196         -2.538502  \n",
       "2023-12-30 22:00:00 -55.509918  314.309953         -2.558482  \n",
       "2023-12-30 23:00:00 -60.737682  338.665193         -2.578454  \n",
       "2023-12-31 00:00:00 -61.881046    7.516045         -2.598420  \n",
       "\n",
       "[2144536 rows x 6 columns]"
      ]
     },
     "execution_count": 35,
     "metadata": {},
     "output_type": "execute_result"
    }
   ],
   "source": [
    "solar_position"
   ]
  },
  {
   "cell_type": "code",
   "execution_count": 36,
   "metadata": {},
   "outputs": [],
   "source": [
    "df_corr['datetime'] = df_corr['datetime'].apply(lambda x: x.timestamp()) # convert to timestamp"
   ]
  },
  {
   "cell_type": "code",
   "execution_count": 37,
   "metadata": {},
   "outputs": [
    {
     "data": {
      "text/html": [
       "<div>\n",
       "<style scoped>\n",
       "    .dataframe tbody tr th:only-of-type {\n",
       "        vertical-align: middle;\n",
       "    }\n",
       "\n",
       "    .dataframe tbody tr th {\n",
       "        vertical-align: top;\n",
       "    }\n",
       "\n",
       "    .dataframe thead th {\n",
       "        text-align: right;\n",
       "    }\n",
       "</style>\n",
       "<table border=\"1\" class=\"dataframe\">\n",
       "  <thead>\n",
       "    <tr style=\"text-align: right;\">\n",
       "      <th></th>\n",
       "      <th>datetime</th>\n",
       "      <th>time</th>\n",
       "      <th>precip</th>\n",
       "      <th>temp</th>\n",
       "      <th>pressure</th>\n",
       "      <th>humidity</th>\n",
       "      <th>wind_speed</th>\n",
       "      <th>wind_gust</th>\n",
       "      <th>lat</th>\n",
       "      <th>lon</th>\n",
       "      <th>...</th>\n",
       "      <th>hour_decimal</th>\n",
       "      <th>day_of_week</th>\n",
       "      <th>day_of_year</th>\n",
       "      <th>year</th>\n",
       "      <th>sin_day_of_week</th>\n",
       "      <th>cos_day_of_week</th>\n",
       "      <th>sin_day_of_year</th>\n",
       "      <th>cos_day_of_year</th>\n",
       "      <th>sin_hour_decimal</th>\n",
       "      <th>cos_hour_decimal</th>\n",
       "    </tr>\n",
       "    <tr>\n",
       "      <th>datetime</th>\n",
       "      <th></th>\n",
       "      <th></th>\n",
       "      <th></th>\n",
       "      <th></th>\n",
       "      <th></th>\n",
       "      <th></th>\n",
       "      <th></th>\n",
       "      <th></th>\n",
       "      <th></th>\n",
       "      <th></th>\n",
       "      <th></th>\n",
       "      <th></th>\n",
       "      <th></th>\n",
       "      <th></th>\n",
       "      <th></th>\n",
       "      <th></th>\n",
       "      <th></th>\n",
       "      <th></th>\n",
       "      <th></th>\n",
       "      <th></th>\n",
       "      <th></th>\n",
       "    </tr>\n",
       "  </thead>\n",
       "  <tbody>\n",
       "    <tr>\n",
       "      <th>2020-01-01 00:00:00</th>\n",
       "      <td>1.577837e+09</td>\n",
       "      <td>00:00</td>\n",
       "      <td>0.0</td>\n",
       "      <td>3.5</td>\n",
       "      <td>103131.0</td>\n",
       "      <td>97.0</td>\n",
       "      <td>8.475000</td>\n",
       "      <td>17.7</td>\n",
       "      <td>50.980438</td>\n",
       "      <td>3.815763</td>\n",
       "      <td>...</td>\n",
       "      <td>0.0</td>\n",
       "      <td>2</td>\n",
       "      <td>1</td>\n",
       "      <td>2020</td>\n",
       "      <td>8.660254e-01</td>\n",
       "      <td>-0.5</td>\n",
       "      <td>0.017166</td>\n",
       "      <td>0.999853</td>\n",
       "      <td>0.000000</td>\n",
       "      <td>1.000000</td>\n",
       "    </tr>\n",
       "    <tr>\n",
       "      <th>2020-01-01 01:00:00</th>\n",
       "      <td>1.577840e+09</td>\n",
       "      <td>01:00</td>\n",
       "      <td>0.0</td>\n",
       "      <td>3.8</td>\n",
       "      <td>103089.0</td>\n",
       "      <td>97.0</td>\n",
       "      <td>6.391667</td>\n",
       "      <td>14.5</td>\n",
       "      <td>50.980438</td>\n",
       "      <td>3.815763</td>\n",
       "      <td>...</td>\n",
       "      <td>1.0</td>\n",
       "      <td>2</td>\n",
       "      <td>1</td>\n",
       "      <td>2020</td>\n",
       "      <td>8.660254e-01</td>\n",
       "      <td>-0.5</td>\n",
       "      <td>0.017166</td>\n",
       "      <td>0.999853</td>\n",
       "      <td>0.268847</td>\n",
       "      <td>0.963183</td>\n",
       "    </tr>\n",
       "    <tr>\n",
       "      <th>2020-01-01 02:00:00</th>\n",
       "      <td>1.577844e+09</td>\n",
       "      <td>02:00</td>\n",
       "      <td>0.0</td>\n",
       "      <td>3.9</td>\n",
       "      <td>103035.0</td>\n",
       "      <td>96.0</td>\n",
       "      <td>7.458333</td>\n",
       "      <td>16.1</td>\n",
       "      <td>50.980438</td>\n",
       "      <td>3.815763</td>\n",
       "      <td>...</td>\n",
       "      <td>2.0</td>\n",
       "      <td>2</td>\n",
       "      <td>1</td>\n",
       "      <td>2020</td>\n",
       "      <td>8.660254e-01</td>\n",
       "      <td>-0.5</td>\n",
       "      <td>0.017166</td>\n",
       "      <td>0.999853</td>\n",
       "      <td>0.517898</td>\n",
       "      <td>0.855443</td>\n",
       "    </tr>\n",
       "    <tr>\n",
       "      <th>2020-01-01 03:00:00</th>\n",
       "      <td>1.577848e+09</td>\n",
       "      <td>03:00</td>\n",
       "      <td>0.0</td>\n",
       "      <td>3.7</td>\n",
       "      <td>102981.0</td>\n",
       "      <td>95.0</td>\n",
       "      <td>6.266667</td>\n",
       "      <td>17.7</td>\n",
       "      <td>50.980438</td>\n",
       "      <td>3.815763</td>\n",
       "      <td>...</td>\n",
       "      <td>3.0</td>\n",
       "      <td>2</td>\n",
       "      <td>1</td>\n",
       "      <td>2020</td>\n",
       "      <td>8.660254e-01</td>\n",
       "      <td>-0.5</td>\n",
       "      <td>0.017166</td>\n",
       "      <td>0.999853</td>\n",
       "      <td>0.728813</td>\n",
       "      <td>0.684712</td>\n",
       "    </tr>\n",
       "    <tr>\n",
       "      <th>2020-01-01 04:00:00</th>\n",
       "      <td>1.577851e+09</td>\n",
       "      <td>04:00</td>\n",
       "      <td>0.0</td>\n",
       "      <td>3.4</td>\n",
       "      <td>102924.0</td>\n",
       "      <td>95.0</td>\n",
       "      <td>3.550000</td>\n",
       "      <td>8.1</td>\n",
       "      <td>50.980438</td>\n",
       "      <td>3.815763</td>\n",
       "      <td>...</td>\n",
       "      <td>4.0</td>\n",
       "      <td>2</td>\n",
       "      <td>1</td>\n",
       "      <td>2020</td>\n",
       "      <td>8.660254e-01</td>\n",
       "      <td>-0.5</td>\n",
       "      <td>0.017166</td>\n",
       "      <td>0.999853</td>\n",
       "      <td>0.886063</td>\n",
       "      <td>0.463564</td>\n",
       "    </tr>\n",
       "    <tr>\n",
       "      <th>...</th>\n",
       "      <td>...</td>\n",
       "      <td>...</td>\n",
       "      <td>...</td>\n",
       "      <td>...</td>\n",
       "      <td>...</td>\n",
       "      <td>...</td>\n",
       "      <td>...</td>\n",
       "      <td>...</td>\n",
       "      <td>...</td>\n",
       "      <td>...</td>\n",
       "      <td>...</td>\n",
       "      <td>...</td>\n",
       "      <td>...</td>\n",
       "      <td>...</td>\n",
       "      <td>...</td>\n",
       "      <td>...</td>\n",
       "      <td>...</td>\n",
       "      <td>...</td>\n",
       "      <td>...</td>\n",
       "      <td>...</td>\n",
       "      <td>...</td>\n",
       "    </tr>\n",
       "    <tr>\n",
       "      <th>2023-12-30 20:00:00</th>\n",
       "      <td>1.703966e+09</td>\n",
       "      <td>20:00</td>\n",
       "      <td>0.0</td>\n",
       "      <td>9.9</td>\n",
       "      <td>100941.0</td>\n",
       "      <td>89.0</td>\n",
       "      <td>4.333333</td>\n",
       "      <td>14.5</td>\n",
       "      <td>51.093160</td>\n",
       "      <td>4.494440</td>\n",
       "      <td>...</td>\n",
       "      <td>20.0</td>\n",
       "      <td>5</td>\n",
       "      <td>364</td>\n",
       "      <td>2023</td>\n",
       "      <td>-8.660254e-01</td>\n",
       "      <td>0.5</td>\n",
       "      <td>-0.034328</td>\n",
       "      <td>0.999411</td>\n",
       "      <td>-0.744156</td>\n",
       "      <td>0.668006</td>\n",
       "    </tr>\n",
       "    <tr>\n",
       "      <th>2023-12-30 21:00:00</th>\n",
       "      <td>1.703970e+09</td>\n",
       "      <td>21:00</td>\n",
       "      <td>0.0</td>\n",
       "      <td>9.9</td>\n",
       "      <td>100850.0</td>\n",
       "      <td>90.0</td>\n",
       "      <td>5.258333</td>\n",
       "      <td>16.1</td>\n",
       "      <td>51.093160</td>\n",
       "      <td>4.494440</td>\n",
       "      <td>...</td>\n",
       "      <td>21.0</td>\n",
       "      <td>5</td>\n",
       "      <td>364</td>\n",
       "      <td>2023</td>\n",
       "      <td>-8.660254e-01</td>\n",
       "      <td>0.5</td>\n",
       "      <td>-0.034328</td>\n",
       "      <td>0.999411</td>\n",
       "      <td>-0.537167</td>\n",
       "      <td>0.843476</td>\n",
       "    </tr>\n",
       "    <tr>\n",
       "      <th>2023-12-30 22:00:00</th>\n",
       "      <td>1.703974e+09</td>\n",
       "      <td>22:00</td>\n",
       "      <td>0.0</td>\n",
       "      <td>10.0</td>\n",
       "      <td>100717.0</td>\n",
       "      <td>85.0</td>\n",
       "      <td>4.333333</td>\n",
       "      <td>14.5</td>\n",
       "      <td>51.093160</td>\n",
       "      <td>4.494440</td>\n",
       "      <td>...</td>\n",
       "      <td>22.0</td>\n",
       "      <td>5</td>\n",
       "      <td>364</td>\n",
       "      <td>2023</td>\n",
       "      <td>-8.660254e-01</td>\n",
       "      <td>0.5</td>\n",
       "      <td>-0.034328</td>\n",
       "      <td>0.999411</td>\n",
       "      <td>-0.290624</td>\n",
       "      <td>0.956837</td>\n",
       "    </tr>\n",
       "    <tr>\n",
       "      <th>2023-12-30 23:00:00</th>\n",
       "      <td>1.703977e+09</td>\n",
       "      <td>23:00</td>\n",
       "      <td>0.0</td>\n",
       "      <td>9.6</td>\n",
       "      <td>100664.0</td>\n",
       "      <td>83.0</td>\n",
       "      <td>4.783333</td>\n",
       "      <td>17.7</td>\n",
       "      <td>51.093160</td>\n",
       "      <td>4.494440</td>\n",
       "      <td>...</td>\n",
       "      <td>23.0</td>\n",
       "      <td>5</td>\n",
       "      <td>364</td>\n",
       "      <td>2023</td>\n",
       "      <td>-8.660254e-01</td>\n",
       "      <td>0.5</td>\n",
       "      <td>-0.034328</td>\n",
       "      <td>0.999411</td>\n",
       "      <td>-0.022681</td>\n",
       "      <td>0.999743</td>\n",
       "    </tr>\n",
       "    <tr>\n",
       "      <th>2023-12-31 00:00:00</th>\n",
       "      <td>1.703981e+09</td>\n",
       "      <td>00:00</td>\n",
       "      <td>0.0</td>\n",
       "      <td>9.7</td>\n",
       "      <td>100525.0</td>\n",
       "      <td>80.0</td>\n",
       "      <td>4.200000</td>\n",
       "      <td>12.9</td>\n",
       "      <td>51.093160</td>\n",
       "      <td>4.494440</td>\n",
       "      <td>...</td>\n",
       "      <td>0.0</td>\n",
       "      <td>6</td>\n",
       "      <td>365</td>\n",
       "      <td>2023</td>\n",
       "      <td>-2.449294e-16</td>\n",
       "      <td>1.0</td>\n",
       "      <td>-0.017166</td>\n",
       "      <td>0.999853</td>\n",
       "      <td>0.000000</td>\n",
       "      <td>1.000000</td>\n",
       "    </tr>\n",
       "  </tbody>\n",
       "</table>\n",
       "<p>2144536 rows × 23 columns</p>\n",
       "</div>"
      ],
      "text/plain": [
       "                         datetime   time  precip  temp  pressure  humidity  \\\n",
       "datetime                                                                     \n",
       "2020-01-01 00:00:00  1.577837e+09  00:00     0.0   3.5  103131.0      97.0   \n",
       "2020-01-01 01:00:00  1.577840e+09  01:00     0.0   3.8  103089.0      97.0   \n",
       "2020-01-01 02:00:00  1.577844e+09  02:00     0.0   3.9  103035.0      96.0   \n",
       "2020-01-01 03:00:00  1.577848e+09  03:00     0.0   3.7  102981.0      95.0   \n",
       "2020-01-01 04:00:00  1.577851e+09  04:00     0.0   3.4  102924.0      95.0   \n",
       "...                           ...    ...     ...   ...       ...       ...   \n",
       "2023-12-30 20:00:00  1.703966e+09  20:00     0.0   9.9  100941.0      89.0   \n",
       "2023-12-30 21:00:00  1.703970e+09  21:00     0.0   9.9  100850.0      90.0   \n",
       "2023-12-30 22:00:00  1.703974e+09  22:00     0.0  10.0  100717.0      85.0   \n",
       "2023-12-30 23:00:00  1.703977e+09  23:00     0.0   9.6  100664.0      83.0   \n",
       "2023-12-31 00:00:00  1.703981e+09  00:00     0.0   9.7  100525.0      80.0   \n",
       "\n",
       "                     wind_speed  wind_gust        lat       lon  ...  \\\n",
       "datetime                                                         ...   \n",
       "2020-01-01 00:00:00    8.475000       17.7  50.980438  3.815763  ...   \n",
       "2020-01-01 01:00:00    6.391667       14.5  50.980438  3.815763  ...   \n",
       "2020-01-01 02:00:00    7.458333       16.1  50.980438  3.815763  ...   \n",
       "2020-01-01 03:00:00    6.266667       17.7  50.980438  3.815763  ...   \n",
       "2020-01-01 04:00:00    3.550000        8.1  50.980438  3.815763  ...   \n",
       "...                         ...        ...        ...       ...  ...   \n",
       "2023-12-30 20:00:00    4.333333       14.5  51.093160  4.494440  ...   \n",
       "2023-12-30 21:00:00    5.258333       16.1  51.093160  4.494440  ...   \n",
       "2023-12-30 22:00:00    4.333333       14.5  51.093160  4.494440  ...   \n",
       "2023-12-30 23:00:00    4.783333       17.7  51.093160  4.494440  ...   \n",
       "2023-12-31 00:00:00    4.200000       12.9  51.093160  4.494440  ...   \n",
       "\n",
       "                     hour_decimal  day_of_week  day_of_year  year  \\\n",
       "datetime                                                            \n",
       "2020-01-01 00:00:00           0.0            2            1  2020   \n",
       "2020-01-01 01:00:00           1.0            2            1  2020   \n",
       "2020-01-01 02:00:00           2.0            2            1  2020   \n",
       "2020-01-01 03:00:00           3.0            2            1  2020   \n",
       "2020-01-01 04:00:00           4.0            2            1  2020   \n",
       "...                           ...          ...          ...   ...   \n",
       "2023-12-30 20:00:00          20.0            5          364  2023   \n",
       "2023-12-30 21:00:00          21.0            5          364  2023   \n",
       "2023-12-30 22:00:00          22.0            5          364  2023   \n",
       "2023-12-30 23:00:00          23.0            5          364  2023   \n",
       "2023-12-31 00:00:00           0.0            6          365  2023   \n",
       "\n",
       "                     sin_day_of_week  cos_day_of_week  sin_day_of_year  \\\n",
       "datetime                                                                 \n",
       "2020-01-01 00:00:00     8.660254e-01             -0.5         0.017166   \n",
       "2020-01-01 01:00:00     8.660254e-01             -0.5         0.017166   \n",
       "2020-01-01 02:00:00     8.660254e-01             -0.5         0.017166   \n",
       "2020-01-01 03:00:00     8.660254e-01             -0.5         0.017166   \n",
       "2020-01-01 04:00:00     8.660254e-01             -0.5         0.017166   \n",
       "...                              ...              ...              ...   \n",
       "2023-12-30 20:00:00    -8.660254e-01              0.5        -0.034328   \n",
       "2023-12-30 21:00:00    -8.660254e-01              0.5        -0.034328   \n",
       "2023-12-30 22:00:00    -8.660254e-01              0.5        -0.034328   \n",
       "2023-12-30 23:00:00    -8.660254e-01              0.5        -0.034328   \n",
       "2023-12-31 00:00:00    -2.449294e-16              1.0        -0.017166   \n",
       "\n",
       "                     cos_day_of_year  sin_hour_decimal  cos_hour_decimal  \n",
       "datetime                                                                  \n",
       "2020-01-01 00:00:00         0.999853          0.000000          1.000000  \n",
       "2020-01-01 01:00:00         0.999853          0.268847          0.963183  \n",
       "2020-01-01 02:00:00         0.999853          0.517898          0.855443  \n",
       "2020-01-01 03:00:00         0.999853          0.728813          0.684712  \n",
       "2020-01-01 04:00:00         0.999853          0.886063          0.463564  \n",
       "...                              ...               ...               ...  \n",
       "2023-12-30 20:00:00         0.999411         -0.744156          0.668006  \n",
       "2023-12-30 21:00:00         0.999411         -0.537167          0.843476  \n",
       "2023-12-30 22:00:00         0.999411         -0.290624          0.956837  \n",
       "2023-12-30 23:00:00         0.999411         -0.022681          0.999743  \n",
       "2023-12-31 00:00:00         0.999853          0.000000          1.000000  \n",
       "\n",
       "[2144536 rows x 23 columns]"
      ]
     },
     "execution_count": 37,
     "metadata": {},
     "output_type": "execute_result"
    }
   ],
   "source": [
    "df_corr"
   ]
  },
  {
   "cell_type": "code",
   "execution_count": 38,
   "metadata": {},
   "outputs": [
    {
     "name": "stderr",
     "output_type": "stream",
     "text": [
      "C:\\Users\\Lukasz\\AppData\\Local\\Temp\\ipykernel_26084\\1238454546.py:3: UserWarning: Could not infer format, so each element will be parsed individually, falling back to `dateutil`. To ensure parsing is consistent and as-expected, please specify a format.\n",
      "  df_ml['time'] = pd.to_datetime(df_ml['time'])\n"
     ]
    }
   ],
   "source": [
    "df_ml = pd.concat([df_ml.reset_index(drop=True), solar_position.reset_index(drop=True)], axis=1)\n",
    "# Converting 'time' column to datetime format\n",
    "df_ml['time'] = pd.to_datetime(df_ml['time'])\n",
    "\n",
    "# Converting 'time' column to number of seconds past midnight\n",
    "df_ml['time'] = df_ml['time'].apply(lambda x: x.hour * 3600 + x.minute * 60 + x.second)"
   ]
  },
  {
   "cell_type": "markdown",
   "metadata": {},
   "source": [
    "## ML "
   ]
  },
  {
   "cell_type": "code",
   "execution_count": 40,
   "metadata": {},
   "outputs": [],
   "source": [
    "selected_columns = ['year', 'hours', 'minutes', 'hour_decimal', 'day_of_week',\n",
    "       'day_of_year', 'sin_day_of_week', 'cos_day_of_week', 'sin_day_of_year',\n",
    "       'cos_day_of_year', 'sin_hour_decimal', 'cos_hour_decimal',\n",
    "       'apparent_zenith', 'zenith', 'apparent_elevation', 'elevation',\n",
    "       'azimuth', 'equation_of_time', 'precip', 'temp', 'pressure', 'humidity',\n",
    "       'wind_speed', 'wind_gust', 'lat', 'lon', 'PET',]\n",
    "\n",
    "df_corr = df_ml[selected_columns].copy()"
   ]
  },
  {
   "cell_type": "code",
   "execution_count": 41,
   "metadata": {},
   "outputs": [],
   "source": [
    "df_corr.to_csv('df_corr2.csv')"
   ]
  },
  {
   "cell_type": "markdown",
   "metadata": {},
   "source": [
    "# Future Selection"
   ]
  },
  {
   "cell_type": "markdown",
   "metadata": {},
   "source": [
    "## Correlation Matrix"
   ]
  },
  {
   "cell_type": "code",
   "execution_count": null,
   "metadata": {},
   "outputs": [
    {
     "data": {
      "application/vnd.plotly.v1+json": {
       "config": {
        "plotlyServerURL": "https://plot.ly"
       },
       "data": [
        {
         "colorbar": {
          "title": {
           "text": "Correlation Coefficient"
          }
         },
         "colorscale": [
          [
           0,
           "rgb(255,245,240)"
          ],
          [
           0.125,
           "rgb(254,224,210)"
          ],
          [
           0.25,
           "rgb(252,187,161)"
          ],
          [
           0.375,
           "rgb(252,146,114)"
          ],
          [
           0.5,
           "rgb(251,106,74)"
          ],
          [
           0.625,
           "rgb(239,59,44)"
          ],
          [
           0.75,
           "rgb(203,24,29)"
          ],
          [
           0.875,
           "rgb(165,15,21)"
          ],
          [
           1,
           "rgb(103,0,13)"
          ]
         ],
         "type": "heatmap",
         "x": [
          "hours",
          "minutes",
          "hour_decimal",
          "day_of_week",
          "day_of_year",
          "sin_day_of_week",
          "cos_day_of_week",
          "sin_day_of_year",
          "cos_day_of_year",
          "sin_hour_decimal",
          "cos_hour_decimal",
          "apparent_zenith",
          "zenith",
          "apparent_elevation",
          "elevation",
          "azimuth",
          "equation_of_time",
          "precip",
          "temp",
          "pressure",
          "humidity",
          "wind_speed",
          "wind_gust",
          "lat",
          "lon",
          "PET"
         ],
         "y": [
          "hours",
          "minutes",
          "hour_decimal",
          "day_of_week",
          "day_of_year",
          "sin_day_of_week",
          "cos_day_of_week",
          "sin_day_of_year",
          "cos_day_of_year",
          "sin_hour_decimal",
          "cos_hour_decimal",
          "apparent_zenith",
          "zenith",
          "apparent_elevation",
          "elevation",
          "azimuth",
          "equation_of_time",
          "precip",
          "temp",
          "pressure",
          "humidity",
          "wind_speed",
          "wind_gust",
          "lat",
          "lon",
          "PET"
         ],
         "z": [
          [
           1,
           -0.001810120226251205,
           0.9999993837974748,
           -0.0015612577361258598,
           -0.0018471233491667222,
           0.002446232270939075,
           0.0016259090332899364,
           0.0037145483519976596,
           0.011206054448844404,
           -0.733453262496065,
           -0.0022147167849987676,
           -0.031169528691076313,
           -0.031169349317436697,
           0.031169528691076413,
           0.03116934931743736,
           0.9908470470356604,
           -0.0065889500435662475,
           0.004108874781495159,
           0.148198778401938,
           -0.0006027474147618381,
           -0.21955866894615403,
           0.02622335580748839,
           0.044507445358903046,
           0.0011705185617161057,
           0.0016069709889635494,
           0.14963323608155166
          ],
          [
           -0.001810120226251205,
           1,
           -0.0006999837609020405,
           0.0019336130825716527,
           -0.00632778371781622,
           0.0026141754886654513,
           -0.0002202389968848588,
           0.009293109661078533,
           -0.00018864747166424465,
           0.003056461175645474,
           -0.014675078133958987,
           -0.012048629027090479,
           -0.012042541081195096,
           0.01204862902708997,
           0.012042541081195225,
           -0.002480634002037475,
           -0.005862762050360264,
           0.06853658288012243,
           -0.001228948803085529,
           -0.018079588041776756,
           -0.007933640684036264,
           0.04156365203327163,
           0.0013228752308054397,
           0.00016326570189043976,
           0.0004910781544557541,
           0.0018360154265593296
          ],
          [
           0.9999993837974748,
           -0.0006999837609020405,
           1,
           -0.0015591133321297742,
           -0.001854150642140234,
           0.002449137777361742,
           0.0016256668027433564,
           0.0037248701707602422,
           0.011205860637129427,
           -0.7334508913070162,
           -0.002231011247104472,
           -0.031182947771866493,
           -0.031182761639511378,
           0.031182947771866806,
           0.0311827616395113,
           0.9908456737171342,
           -0.006595467704562035,
           0.004184965639034568,
           0.14819762058071712,
           -0.0006228191101210905,
           -0.21956778229723348,
           0.026269533774609815,
           0.04450897594571695,
           0.0011707014401925097,
           0.0016075183929283791,
           0.1496354827952286
          ],
          [
           -0.0015612577361258598,
           0.0019336130825716527,
           -0.0015591133321297742,
           1,
           -0.0010271908758101521,
           -0.5691416403226569,
           -0.003142410694619281,
           -0.0020832154990190316,
           0.0013862065334172297,
           0.001661686977637692,
           0.000732588735593569,
           0.001500766189841784,
           0.001499198100627465,
           -0.0015007661898418729,
           -0.0014991981006273593,
           -0.0015357510073169011,
           -0.00045351750399723865,
           -0.0003139542708847127,
           0.0008972064627891272,
           -0.0038714540450947485,
           0.015098721315442857,
           0.0067294775319539256,
           0.010857965429637309,
           0.00047942268670708347,
           0.000531802588750608,
           -0.0006334420400622029
          ],
          [
           -0.0018471233491667222,
           -0.00632778371781622,
           -0.001854150642140234,
           -0.0010271908758101521,
           1,
           0.0016858010089673562,
           -0.000340830663513531,
           -0.7916292674063505,
           -0.009502614952349062,
           0.0020184578833636535,
           -0.0038515834555761094,
           0.060823655254092716,
           0.06083006142637246,
           -0.060823655254093605,
           -0.060830061426369784,
           0.011032146465960025,
           0.7644422468029652,
           0.003500837910711791,
           0.20681573630422764,
           -0.16494185949664167,
           0.17177409747482766,
           -0.0968715101458942,
           -0.10589884048134077,
           -0.0026181498144537533,
           -0.0031472777109435523,
           0.1735161288715214
          ],
          [
           0.002446232270939075,
           0.0026141754886654513,
           0.002449137777361742,
           -0.5691416403226569,
           0.0016858010089673562,
           1,
           0.000529732188813905,
           -0.0006506164592958981,
           -0.0023601100252559674,
           -0.002909092621448188,
           0.000028790667576604836,
           -0.0011842334231869272,
           -0.0011821012678317458,
           0.0011842334231868944,
           0.0011821012678316922,
           0.002446385804521292,
           0.0022397662356752933,
           0.003840115300576954,
           0.004532944017970722,
           0.0026663021399062512,
           -0.019573175146724523,
           -0.00924449058201313,
           -0.01407989494515537,
           -0.0006846797931186263,
           -0.0007495396294842664,
           0.007247709456779178
          ],
          [
           0.0016259090332899364,
           -0.0002202389968848588,
           0.0016256668027433564,
           -0.003142410694619281,
           -0.000340830663513531,
           0.000529732188813905,
           1,
           -0.011253413629430189,
           0.00046963238528641865,
           -0.0010602428994834685,
           0.001789695166915929,
           0.002694576345772783,
           0.002695112226103023,
           -0.0026945763457724673,
           -0.002695112226102524,
           0.0015451128011219496,
           0.005731982841212697,
           -0.008300888530949372,
           -0.010676209010303606,
           0.02903210016738932,
           -0.005082482352796036,
           -0.0039490680062417285,
           -0.002245798793520913,
           0.00046069076204244736,
           0.0003077269345757993,
           -0.00526340359732857
          ],
          [
           0.0037145483519976596,
           0.009293109661078533,
           0.0037248701707602422,
           -0.0020832154990190316,
           -0.7916292674063505,
           -0.0006506164592958981,
           -0.011253413629430189,
           1,
           0.014949519547745559,
           -0.004065907872384583,
           0.0016410227745505643,
           -0.07735990892327263,
           -0.07737471923976257,
           0.0773599089232723,
           0.07737471923976205,
           -0.006742593718511619,
           -0.5957032673916608,
           -0.005788130012517846,
           -0.2995424755654115,
           0.12391191747080746,
           -0.22585683956620334,
           0.11595280482490396,
           0.128650243383632,
           0.0007310211632923625,
           0.0029988986378225602,
           -0.25234135300396054
          ],
          [
           0.011206054448844404,
           -0.00018864747166424465,
           0.011205860637129427,
           0.0013862065334172297,
           -0.009502614952349062,
           -0.0023601100252559674,
           0.00046963238528641865,
           0.014949519547745559,
           1,
           -0.015041395073337271,
           -0.006654627248855233,
           0.4538449225081633,
           0.4540506149243737,
           -0.45384492250816283,
           -0.4540506149243711,
           0.013059766428318442,
           0.05824672069346985,
           0.007441722237081684,
           -0.7136922188281307,
           -0.026481663619599888,
           0.3818929550347879,
           0.152945928656054,
           0.16078809967837837,
           0.0072597054352660315,
           -0.0014605552846129264,
           -0.6820458193402655
          ],
          [
           -0.733453262496065,
           0.003056461175645474,
           -0.7334508913070162,
           0.001661686977637692,
           0.0020184578833636535,
           -0.002909092621448188,
           -0.0010602428994834685,
           -0.004065907872384583,
           -0.015041395073337271,
           1,
           -0.001603827383383445,
           0.03379433937949612,
           0.03383250498975024,
           -0.03379433937949588,
           -0.03383250498975161,
           -0.7530240652512759,
           0.008750277867278803,
           -0.008383121820128386,
           -0.20962557554973457,
           0.008927167092287991,
           0.31944950860959287,
           -0.04142522923240807,
           -0.06731932941524478,
           -0.0013479134269782493,
           -0.0014974313047916386,
           -0.23089316723769635
          ],
          [
           -0.0022147167849987676,
           -0.014675078133958987,
           -0.002231011247104472,
           0.000732588735593569,
           -0.0038515834555761094,
           0.000028790667576604836,
           0.001789695166915929,
           0.0016410227745505643,
           -0.006654627248855233,
           -0.001603827383383445,
           1,
           0.8802354740992093,
           0.8801217336650817,
           -0.880235474099205,
           -0.880121733665081,
           0.0010413509369839584,
           -0.0028953120996753528,
           -0.012059916230722853,
           -0.20967359456112625,
           0.0033612814975864267,
           0.2898517115152578,
           -0.19588793448955633,
           -0.27944819190519554,
           0.003015885620291498,
           -0.002021197593293975,
           -0.3378000095304003
          ],
          [
           -0.031169528691076313,
           -0.012048629027090479,
           -0.031182947771866493,
           0.001500766189841784,
           0.060823655254092716,
           -0.0011842334231869272,
           0.002694576345772783,
           -0.07735990892327263,
           0.4538449225081633,
           0.03379433937949612,
           0.8802354740992093,
           1,
           0.999996577948608,
           -0.9999999999999998,
           -0.9999965779486066,
           -0.027452608031872744,
           0.074212173974915,
           -0.007016458022407939,
           -0.49740798607913245,
           -0.019441990701115994,
           0.46604243238412424,
           -0.11309803581323388,
           -0.18540300318274086,
           0.00595190482291187,
           -0.0024957807473651125,
           -0.5992793784484397
          ],
          [
           -0.031169349317436697,
           -0.012042541081195096,
           -0.031182761639511378,
           0.001499198100627465,
           0.06083006142637246,
           -0.0011821012678317458,
           0.002695112226103023,
           -0.07737471923976257,
           0.4540506149243737,
           0.03383250498975024,
           0.8801217336650817,
           0.999996577948608,
           1,
           -0.9999965779486077,
           -1.0000000000000004,
           -0.027452859900215915,
           0.0742298182278009,
           -0.007012334811310146,
           -0.49763215932073224,
           -0.019435121798240484,
           0.4662526443044386,
           -0.11314458381371068,
           -0.18547445509886,
           0.005958746369961299,
           -0.0025210684371608214,
           -0.5995279167972141
          ],
          [
           0.031169528691076413,
           0.01204862902708997,
           0.031182947771866806,
           -0.0015007661898418729,
           -0.060823655254093605,
           0.0011842334231868944,
           -0.0026945763457724673,
           0.0773599089232723,
           -0.45384492250816283,
           -0.03379433937949588,
           -0.880235474099205,
           -0.9999999999999998,
           -0.9999965779486077,
           1,
           0.9999965779486072,
           0.027452608031873157,
           -0.07421217397491459,
           0.007016458022408202,
           0.4974079860791319,
           0.019441990701119377,
           -0.46604243238412163,
           0.11309803581322939,
           0.18540300318273592,
           -0.00595190482291486,
           0.002495780747364276,
           0.5992793784484387
          ],
          [
           0.03116934931743736,
           0.012042541081195225,
           0.0311827616395113,
           -0.0014991981006273593,
           -0.060830061426369784,
           0.0011821012678316922,
           -0.002695112226102524,
           0.07737471923976205,
           -0.4540506149243711,
           -0.03383250498975161,
           -0.880121733665081,
           -0.9999965779486066,
           -1.0000000000000004,
           0.9999965779486072,
           1,
           0.027452859900216196,
           -0.07422981822779773,
           0.007012334811310386,
           0.4976321593207239,
           0.01943512179824234,
           -0.4662526443044403,
           0.11314458381370955,
           0.18547445509885574,
           -0.005958746369962255,
           0.0025210684371605105,
           0.5995279167972084
          ],
          [
           0.9908470470356604,
           -0.002480634002037475,
           0.9908456737171342,
           -0.0015357510073169011,
           0.011032146465960025,
           0.002446385804521292,
           0.0015451128011219496,
           -0.006742593718511619,
           0.013059766428318442,
           -0.7530240652512759,
           0.0010413509369839584,
           -0.027452608031872744,
           -0.027452859900215915,
           0.027452608031873157,
           0.027452859900216196,
           1,
           0.011669098383201182,
           0.004416840447654457,
           0.15982538830087098,
           -0.004423531620373467,
           -0.23626098659773873,
           0.026696448449419954,
           0.04619653309225873,
           0.0017051020095558303,
           0.005029004480668912,
           0.16295266980151252
          ],
          [
           -0.0065889500435662475,
           -0.005862762050360264,
           -0.006595467704562035,
           -0.00045351750399723865,
           0.7644422468029652,
           0.0022397662356752933,
           0.005731982841212697,
           -0.5957032673916608,
           0.05824672069346985,
           0.008750277867278803,
           -0.0028953120996753528,
           0.074212173974915,
           0.0742298182278009,
           -0.07421217397491459,
           -0.07422981822779773,
           0.011669098383201182,
           1,
           0.0018879390900684145,
           0.07318117682863123,
           -0.12563959190226234,
           0.13711118445827733,
           -0.08468537672108191,
           -0.09276292127460989,
           -0.00014944243297078977,
           0.0005954458233267374,
           0.05588871539529629
          ],
          [
           0.004108874781495159,
           0.06853658288012243,
           0.004184965639034568,
           -0.0003139542708847127,
           0.003500837910711791,
           0.003840115300576954,
           -0.008300888530949372,
           -0.005788130012517846,
           0.007441722237081684,
           -0.008383121820128386,
           -0.012059916230722853,
           -0.007016458022407939,
           -0.007012334811310146,
           0.007016458022408202,
           0.007012334811310386,
           0.004416840447654457,
           0.0018879390900684145,
           1,
           0.00039766856713901853,
           -0.017065975685108946,
           0.0168446268252012,
           0.33032755012710135,
           0.02674549831801902,
           -0.0011083949861843791,
           -0.0022640104410942474,
           -0.003166707403612865
          ],
          [
           0.148198778401938,
           -0.001228948803085529,
           0.14819762058071712,
           0.0008972064627891272,
           0.20681573630422764,
           0.004532944017970722,
           -0.010676209010303606,
           -0.2995424755654115,
           -0.7136922188281307,
           -0.20962557554973457,
           -0.20967359456112625,
           -0.49740798607913245,
           -0.49763215932073224,
           0.4974079860791319,
           0.4976321593207239,
           0.15982538830087098,
           0.07318117682863123,
           0.00039766856713901853,
           1,
           -0.04869752628942384,
           -0.5346712457662315,
           -0.028330687050056997,
           0.01673626346119367,
           -0.004198358525979926,
           0.0020440481156467133,
           0.933064170862306
          ],
          [
           -0.0006027474147618381,
           -0.018079588041776756,
           -0.0006228191101210905,
           -0.0038714540450947485,
           -0.16494185949664167,
           0.0026663021399062512,
           0.02903210016738932,
           0.12391191747080746,
           -0.026481663619599888,
           0.008927167092287991,
           0.0033612814975864267,
           -0.019441990701115994,
           -0.019435121798240484,
           0.019441990701119377,
           0.01943512179824234,
           -0.004423531620373467,
           -0.12563959190226234,
           -0.017065975685108946,
           -0.04869752628942384,
           1,
           -0.10011335003226243,
           -0.17403592864876713,
           -0.2472087348847652,
           0.10623066113247638,
           -0.08795649353464065,
           0.003804496885625882
          ],
          [
           -0.21955866894615403,
           -0.007933640684036264,
           -0.21956778229723348,
           0.015098721315442857,
           0.17177409747482766,
           -0.019573175146724523,
           -0.005082482352796036,
           -0.22585683956620334,
           0.3818929550347879,
           0.31944950860959287,
           0.2898517115152578,
           0.46604243238412424,
           0.4662526443044386,
           -0.46604243238412163,
           -0.4662526443044403,
           -0.23626098659773873,
           0.13711118445827733,
           0.0168446268252012,
           -0.5346712457662315,
           -0.10011335003226243,
           1,
           -0.04567990461250846,
           -0.10698660694404194,
           0.009049854360939283,
           -0.06282220947527135,
           -0.5605629057601276
          ],
          [
           0.02622335580748839,
           0.04156365203327163,
           0.026269533774609815,
           0.0067294775319539256,
           -0.0968715101458942,
           -0.00924449058201313,
           -0.0039490680062417285,
           0.11595280482490396,
           0.152945928656054,
           -0.04142522923240807,
           -0.19588793448955633,
           -0.11309803581323388,
           -0.11314458381371068,
           0.11309803581322939,
           0.11314458381370955,
           0.026696448449419954,
           -0.08468537672108191,
           0.33032755012710135,
           -0.028330687050056997,
           -0.17403592864876713,
           -0.04567990461250846,
           1,
           0.8472960227294812,
           0.03675372588341095,
           -0.09495985432083245,
           -0.15635575944644273
          ],
          [
           0.044507445358903046,
           0.0013228752308054397,
           0.04450897594571695,
           0.010857965429637309,
           -0.10589884048134077,
           -0.01407989494515537,
           -0.002245798793520913,
           0.128650243383632,
           0.16078809967837837,
           -0.06731932941524478,
           -0.27944819190519554,
           -0.18540300318274086,
           -0.18547445509886,
           0.18540300318273592,
           0.18547445509885574,
           0.04619653309225873,
           -0.09276292127460989,
           0.02674549831801902,
           0.01673626346119367,
           -0.2472087348847652,
           -0.10698660694404194,
           0.8472960227294812,
           1,
           0.005198360521580893,
           -0.08312239334011635,
           -0.1217511557792704
          ],
          [
           0.0011705185617161057,
           0.00016326570189043976,
           0.0011707014401925097,
           0.00047942268670708347,
           -0.0026181498144537533,
           -0.0006846797931186263,
           0.00046069076204244736,
           0.0007310211632923625,
           0.0072597054352660315,
           -0.0013479134269782493,
           0.003015885620291498,
           0.00595190482291187,
           0.005958746369961299,
           -0.00595190482291486,
           -0.005958746369962255,
           0.0017051020095558303,
           -0.00014944243297078977,
           -0.0011083949861843791,
           -0.004198358525979926,
           0.10623066113247638,
           0.009049854360939283,
           0.03675372588341095,
           0.005198360521580893,
           1,
           0.1769755359829693,
           0.00031408763722130014
          ],
          [
           0.0016069709889635494,
           0.0004910781544557541,
           0.0016075183929283791,
           0.000531802588750608,
           -0.0031472777109435523,
           -0.0007495396294842664,
           0.0003077269345757993,
           0.0029988986378225602,
           -0.0014605552846129264,
           -0.0014974313047916386,
           -0.002021197593293975,
           -0.0024957807473651125,
           -0.0025210684371608214,
           0.002495780747364276,
           0.0025210684371605105,
           0.005029004480668912,
           0.0005954458233267374,
           -0.0022640104410942474,
           0.0020440481156467133,
           -0.08795649353464065,
           -0.06282220947527135,
           -0.09495985432083245,
           -0.08312239334011635,
           0.1769755359829693,
           1,
           0.026740472550243675
          ],
          [
           0.14963323608155166,
           0.0018360154265593296,
           0.1496354827952286,
           -0.0006334420400622029,
           0.1735161288715214,
           0.007247709456779178,
           -0.00526340359732857,
           -0.25234135300396054,
           -0.6820458193402655,
           -0.23089316723769635,
           -0.3378000095304003,
           -0.5992793784484397,
           -0.5995279167972141,
           0.5992793784484387,
           0.5995279167972084,
           0.16295266980151252,
           0.05588871539529629,
           -0.003166707403612865,
           0.933064170862306,
           0.003804496885625882,
           -0.5605629057601276,
           -0.15635575944644273,
           -0.1217511557792704,
           0.00031408763722130014,
           0.026740472550243675,
           1
          ]
         ]
        }
       ],
       "layout": {
        "height": 1000,
        "template": {
         "data": {
          "bar": [
           {
            "error_x": {
             "color": "#2a3f5f"
            },
            "error_y": {
             "color": "#2a3f5f"
            },
            "marker": {
             "line": {
              "color": "#E5ECF6",
              "width": 0.5
             },
             "pattern": {
              "fillmode": "overlay",
              "size": 10,
              "solidity": 0.2
             }
            },
            "type": "bar"
           }
          ],
          "barpolar": [
           {
            "marker": {
             "line": {
              "color": "#E5ECF6",
              "width": 0.5
             },
             "pattern": {
              "fillmode": "overlay",
              "size": 10,
              "solidity": 0.2
             }
            },
            "type": "barpolar"
           }
          ],
          "carpet": [
           {
            "aaxis": {
             "endlinecolor": "#2a3f5f",
             "gridcolor": "white",
             "linecolor": "white",
             "minorgridcolor": "white",
             "startlinecolor": "#2a3f5f"
            },
            "baxis": {
             "endlinecolor": "#2a3f5f",
             "gridcolor": "white",
             "linecolor": "white",
             "minorgridcolor": "white",
             "startlinecolor": "#2a3f5f"
            },
            "type": "carpet"
           }
          ],
          "choropleth": [
           {
            "colorbar": {
             "outlinewidth": 0,
             "ticks": ""
            },
            "type": "choropleth"
           }
          ],
          "contour": [
           {
            "colorbar": {
             "outlinewidth": 0,
             "ticks": ""
            },
            "colorscale": [
             [
              0,
              "#0d0887"
             ],
             [
              0.1111111111111111,
              "#46039f"
             ],
             [
              0.2222222222222222,
              "#7201a8"
             ],
             [
              0.3333333333333333,
              "#9c179e"
             ],
             [
              0.4444444444444444,
              "#bd3786"
             ],
             [
              0.5555555555555556,
              "#d8576b"
             ],
             [
              0.6666666666666666,
              "#ed7953"
             ],
             [
              0.7777777777777778,
              "#fb9f3a"
             ],
             [
              0.8888888888888888,
              "#fdca26"
             ],
             [
              1,
              "#f0f921"
             ]
            ],
            "type": "contour"
           }
          ],
          "contourcarpet": [
           {
            "colorbar": {
             "outlinewidth": 0,
             "ticks": ""
            },
            "type": "contourcarpet"
           }
          ],
          "heatmap": [
           {
            "colorbar": {
             "outlinewidth": 0,
             "ticks": ""
            },
            "colorscale": [
             [
              0,
              "#0d0887"
             ],
             [
              0.1111111111111111,
              "#46039f"
             ],
             [
              0.2222222222222222,
              "#7201a8"
             ],
             [
              0.3333333333333333,
              "#9c179e"
             ],
             [
              0.4444444444444444,
              "#bd3786"
             ],
             [
              0.5555555555555556,
              "#d8576b"
             ],
             [
              0.6666666666666666,
              "#ed7953"
             ],
             [
              0.7777777777777778,
              "#fb9f3a"
             ],
             [
              0.8888888888888888,
              "#fdca26"
             ],
             [
              1,
              "#f0f921"
             ]
            ],
            "type": "heatmap"
           }
          ],
          "heatmapgl": [
           {
            "colorbar": {
             "outlinewidth": 0,
             "ticks": ""
            },
            "colorscale": [
             [
              0,
              "#0d0887"
             ],
             [
              0.1111111111111111,
              "#46039f"
             ],
             [
              0.2222222222222222,
              "#7201a8"
             ],
             [
              0.3333333333333333,
              "#9c179e"
             ],
             [
              0.4444444444444444,
              "#bd3786"
             ],
             [
              0.5555555555555556,
              "#d8576b"
             ],
             [
              0.6666666666666666,
              "#ed7953"
             ],
             [
              0.7777777777777778,
              "#fb9f3a"
             ],
             [
              0.8888888888888888,
              "#fdca26"
             ],
             [
              1,
              "#f0f921"
             ]
            ],
            "type": "heatmapgl"
           }
          ],
          "histogram": [
           {
            "marker": {
             "pattern": {
              "fillmode": "overlay",
              "size": 10,
              "solidity": 0.2
             }
            },
            "type": "histogram"
           }
          ],
          "histogram2d": [
           {
            "colorbar": {
             "outlinewidth": 0,
             "ticks": ""
            },
            "colorscale": [
             [
              0,
              "#0d0887"
             ],
             [
              0.1111111111111111,
              "#46039f"
             ],
             [
              0.2222222222222222,
              "#7201a8"
             ],
             [
              0.3333333333333333,
              "#9c179e"
             ],
             [
              0.4444444444444444,
              "#bd3786"
             ],
             [
              0.5555555555555556,
              "#d8576b"
             ],
             [
              0.6666666666666666,
              "#ed7953"
             ],
             [
              0.7777777777777778,
              "#fb9f3a"
             ],
             [
              0.8888888888888888,
              "#fdca26"
             ],
             [
              1,
              "#f0f921"
             ]
            ],
            "type": "histogram2d"
           }
          ],
          "histogram2dcontour": [
           {
            "colorbar": {
             "outlinewidth": 0,
             "ticks": ""
            },
            "colorscale": [
             [
              0,
              "#0d0887"
             ],
             [
              0.1111111111111111,
              "#46039f"
             ],
             [
              0.2222222222222222,
              "#7201a8"
             ],
             [
              0.3333333333333333,
              "#9c179e"
             ],
             [
              0.4444444444444444,
              "#bd3786"
             ],
             [
              0.5555555555555556,
              "#d8576b"
             ],
             [
              0.6666666666666666,
              "#ed7953"
             ],
             [
              0.7777777777777778,
              "#fb9f3a"
             ],
             [
              0.8888888888888888,
              "#fdca26"
             ],
             [
              1,
              "#f0f921"
             ]
            ],
            "type": "histogram2dcontour"
           }
          ],
          "mesh3d": [
           {
            "colorbar": {
             "outlinewidth": 0,
             "ticks": ""
            },
            "type": "mesh3d"
           }
          ],
          "parcoords": [
           {
            "line": {
             "colorbar": {
              "outlinewidth": 0,
              "ticks": ""
             }
            },
            "type": "parcoords"
           }
          ],
          "pie": [
           {
            "automargin": true,
            "type": "pie"
           }
          ],
          "scatter": [
           {
            "fillpattern": {
             "fillmode": "overlay",
             "size": 10,
             "solidity": 0.2
            },
            "type": "scatter"
           }
          ],
          "scatter3d": [
           {
            "line": {
             "colorbar": {
              "outlinewidth": 0,
              "ticks": ""
             }
            },
            "marker": {
             "colorbar": {
              "outlinewidth": 0,
              "ticks": ""
             }
            },
            "type": "scatter3d"
           }
          ],
          "scattercarpet": [
           {
            "marker": {
             "colorbar": {
              "outlinewidth": 0,
              "ticks": ""
             }
            },
            "type": "scattercarpet"
           }
          ],
          "scattergeo": [
           {
            "marker": {
             "colorbar": {
              "outlinewidth": 0,
              "ticks": ""
             }
            },
            "type": "scattergeo"
           }
          ],
          "scattergl": [
           {
            "marker": {
             "colorbar": {
              "outlinewidth": 0,
              "ticks": ""
             }
            },
            "type": "scattergl"
           }
          ],
          "scattermapbox": [
           {
            "marker": {
             "colorbar": {
              "outlinewidth": 0,
              "ticks": ""
             }
            },
            "type": "scattermapbox"
           }
          ],
          "scatterpolar": [
           {
            "marker": {
             "colorbar": {
              "outlinewidth": 0,
              "ticks": ""
             }
            },
            "type": "scatterpolar"
           }
          ],
          "scatterpolargl": [
           {
            "marker": {
             "colorbar": {
              "outlinewidth": 0,
              "ticks": ""
             }
            },
            "type": "scatterpolargl"
           }
          ],
          "scatterternary": [
           {
            "marker": {
             "colorbar": {
              "outlinewidth": 0,
              "ticks": ""
             }
            },
            "type": "scatterternary"
           }
          ],
          "surface": [
           {
            "colorbar": {
             "outlinewidth": 0,
             "ticks": ""
            },
            "colorscale": [
             [
              0,
              "#0d0887"
             ],
             [
              0.1111111111111111,
              "#46039f"
             ],
             [
              0.2222222222222222,
              "#7201a8"
             ],
             [
              0.3333333333333333,
              "#9c179e"
             ],
             [
              0.4444444444444444,
              "#bd3786"
             ],
             [
              0.5555555555555556,
              "#d8576b"
             ],
             [
              0.6666666666666666,
              "#ed7953"
             ],
             [
              0.7777777777777778,
              "#fb9f3a"
             ],
             [
              0.8888888888888888,
              "#fdca26"
             ],
             [
              1,
              "#f0f921"
             ]
            ],
            "type": "surface"
           }
          ],
          "table": [
           {
            "cells": {
             "fill": {
              "color": "#EBF0F8"
             },
             "line": {
              "color": "white"
             }
            },
            "header": {
             "fill": {
              "color": "#C8D4E3"
             },
             "line": {
              "color": "white"
             }
            },
            "type": "table"
           }
          ]
         },
         "layout": {
          "annotationdefaults": {
           "arrowcolor": "#2a3f5f",
           "arrowhead": 0,
           "arrowwidth": 1
          },
          "autotypenumbers": "strict",
          "coloraxis": {
           "colorbar": {
            "outlinewidth": 0,
            "ticks": ""
           }
          },
          "colorscale": {
           "diverging": [
            [
             0,
             "#8e0152"
            ],
            [
             0.1,
             "#c51b7d"
            ],
            [
             0.2,
             "#de77ae"
            ],
            [
             0.3,
             "#f1b6da"
            ],
            [
             0.4,
             "#fde0ef"
            ],
            [
             0.5,
             "#f7f7f7"
            ],
            [
             0.6,
             "#e6f5d0"
            ],
            [
             0.7,
             "#b8e186"
            ],
            [
             0.8,
             "#7fbc41"
            ],
            [
             0.9,
             "#4d9221"
            ],
            [
             1,
             "#276419"
            ]
           ],
           "sequential": [
            [
             0,
             "#0d0887"
            ],
            [
             0.1111111111111111,
             "#46039f"
            ],
            [
             0.2222222222222222,
             "#7201a8"
            ],
            [
             0.3333333333333333,
             "#9c179e"
            ],
            [
             0.4444444444444444,
             "#bd3786"
            ],
            [
             0.5555555555555556,
             "#d8576b"
            ],
            [
             0.6666666666666666,
             "#ed7953"
            ],
            [
             0.7777777777777778,
             "#fb9f3a"
            ],
            [
             0.8888888888888888,
             "#fdca26"
            ],
            [
             1,
             "#f0f921"
            ]
           ],
           "sequentialminus": [
            [
             0,
             "#0d0887"
            ],
            [
             0.1111111111111111,
             "#46039f"
            ],
            [
             0.2222222222222222,
             "#7201a8"
            ],
            [
             0.3333333333333333,
             "#9c179e"
            ],
            [
             0.4444444444444444,
             "#bd3786"
            ],
            [
             0.5555555555555556,
             "#d8576b"
            ],
            [
             0.6666666666666666,
             "#ed7953"
            ],
            [
             0.7777777777777778,
             "#fb9f3a"
            ],
            [
             0.8888888888888888,
             "#fdca26"
            ],
            [
             1,
             "#f0f921"
            ]
           ]
          },
          "colorway": [
           "#636efa",
           "#EF553B",
           "#00cc96",
           "#ab63fa",
           "#FFA15A",
           "#19d3f3",
           "#FF6692",
           "#B6E880",
           "#FF97FF",
           "#FECB52"
          ],
          "font": {
           "color": "#2a3f5f"
          },
          "geo": {
           "bgcolor": "white",
           "lakecolor": "white",
           "landcolor": "#E5ECF6",
           "showlakes": true,
           "showland": true,
           "subunitcolor": "white"
          },
          "hoverlabel": {
           "align": "left"
          },
          "hovermode": "closest",
          "mapbox": {
           "style": "light"
          },
          "paper_bgcolor": "white",
          "plot_bgcolor": "#E5ECF6",
          "polar": {
           "angularaxis": {
            "gridcolor": "white",
            "linecolor": "white",
            "ticks": ""
           },
           "bgcolor": "#E5ECF6",
           "radialaxis": {
            "gridcolor": "white",
            "linecolor": "white",
            "ticks": ""
           }
          },
          "scene": {
           "xaxis": {
            "backgroundcolor": "#E5ECF6",
            "gridcolor": "white",
            "gridwidth": 2,
            "linecolor": "white",
            "showbackground": true,
            "ticks": "",
            "zerolinecolor": "white"
           },
           "yaxis": {
            "backgroundcolor": "#E5ECF6",
            "gridcolor": "white",
            "gridwidth": 2,
            "linecolor": "white",
            "showbackground": true,
            "ticks": "",
            "zerolinecolor": "white"
           },
           "zaxis": {
            "backgroundcolor": "#E5ECF6",
            "gridcolor": "white",
            "gridwidth": 2,
            "linecolor": "white",
            "showbackground": true,
            "ticks": "",
            "zerolinecolor": "white"
           }
          },
          "shapedefaults": {
           "line": {
            "color": "#2a3f5f"
           }
          },
          "ternary": {
           "aaxis": {
            "gridcolor": "white",
            "linecolor": "white",
            "ticks": ""
           },
           "baxis": {
            "gridcolor": "white",
            "linecolor": "white",
            "ticks": ""
           },
           "bgcolor": "#E5ECF6",
           "caxis": {
            "gridcolor": "white",
            "linecolor": "white",
            "ticks": ""
           }
          },
          "title": {
           "x": 0.05
          },
          "xaxis": {
           "automargin": true,
           "gridcolor": "white",
           "linecolor": "white",
           "ticks": "",
           "title": {
            "standoff": 15
           },
           "zerolinecolor": "white",
           "zerolinewidth": 2
          },
          "yaxis": {
           "automargin": true,
           "gridcolor": "white",
           "linecolor": "white",
           "ticks": "",
           "title": {
            "standoff": 15
           },
           "zerolinecolor": "white",
           "zerolinewidth": 2
          }
         }
        },
        "title": {
         "text": "Correlation Matrix Heatmap",
         "x": 0.5
        },
        "width": 1000,
        "xaxis": {
         "showgrid": false
        },
        "yaxis": {
         "autorange": "reversed",
         "showgrid": false
        }
       }
      }
     },
     "metadata": {},
     "output_type": "display_data"
    },
    {
     "name": "stdout",
     "output_type": "stream",
     "text": [
      "PET                   1.000000\n",
      "temp                  0.933064\n",
      "elevation             0.599528\n",
      "apparent_elevation    0.599279\n",
      "day_of_year           0.173516\n",
      "azimuth               0.162953\n",
      "hour_decimal          0.149635\n",
      "hours                 0.149633\n",
      "equation_of_time      0.055889\n",
      "lon                   0.026740\n",
      "sin_day_of_week       0.007248\n",
      "pressure              0.003804\n",
      "minutes               0.001836\n",
      "lat                   0.000314\n",
      "day_of_week          -0.000633\n",
      "precip               -0.003167\n",
      "cos_day_of_week      -0.005263\n",
      "wind_gust            -0.121751\n",
      "wind_speed           -0.156356\n",
      "sin_hour_decimal     -0.230893\n",
      "sin_day_of_year      -0.252341\n",
      "cos_hour_decimal     -0.337800\n",
      "humidity             -0.560563\n",
      "apparent_zenith      -0.599279\n",
      "zenith               -0.599528\n",
      "cos_day_of_year      -0.682046\n",
      "Name: PET, dtype: float64\n"
     ]
    }
   ],
   "source": [
    "corr_matrix = df_corr.corr()\n",
    "\n",
    "pet_correlations = corr_matrix['PET'].sort_values(ascending=False)\n",
    "\n",
    "\n",
    "\n",
    "# Create the heatmap\n",
    "fig = go.Figure(data=go.Heatmap(\n",
    "    z=corr_matrix.values,\n",
    "    x=corr_matrix.columns,\n",
    "    y=corr_matrix.columns,\n",
    "    colorscale='Reds',  \n",
    "    colorbar=dict(title='Correlation Coefficient'),\n",
    "))\n",
    "\n",
    "fig.update_layout(\n",
    "    title_text='Correlation Matrix Heatmap',\n",
    "    title_x=0.5,\n",
    "    width=1000,\n",
    "    height=1000,\n",
    "    xaxis_showgrid=False,\n",
    "    yaxis_showgrid=False,\n",
    "    yaxis_autorange='reversed'\n",
    ")\n",
    "\n",
    "fig.show()\n",
    "print(pet_correlations)\n",
    "# Save the figure to HTML\n",
    "fig.write_html(\"Heatmap.html\")"
   ]
  },
  {
   "cell_type": "markdown",
   "metadata": {},
   "source": [
    "## Feature importance "
   ]
  },
  {
   "cell_type": "markdown",
   "metadata": {},
   "source": [
    "### Random Forest"
   ]
  },
  {
   "cell_type": "code",
   "execution_count": null,
   "metadata": {},
   "outputs": [
    {
     "data": {
      "image/png": "[encoded data removed]",
      "text/plain": [
       "<Figure size 1000x800 with 1 Axes>"
      ]
     },
     "metadata": {},
     "output_type": "display_data"
    },
    {
     "name": "stdout",
     "output_type": "stream",
     "text": [
      "               feature    importance\n",
      "18                temp  8.713206e-01\n",
      "21          wind_speed  6.000032e-02\n",
      "12              zenith  1.674228e-02\n",
      "11     apparent_zenith  1.263973e-02\n",
      "14           elevation  1.120060e-02\n",
      "13  apparent_elevation  9.040462e-03\n",
      "20            humidity  7.639789e-03\n",
      "9     sin_hour_decimal  4.836839e-03\n",
      "15             azimuth  2.867161e-03\n",
      "10    cos_hour_decimal  1.679824e-03\n",
      "2         hour_decimal  7.504957e-04\n",
      "8      cos_day_of_year  5.125221e-04\n",
      "0                hours  3.506261e-04\n",
      "7      sin_day_of_year  1.058928e-04\n",
      "22           wind_gust  8.847354e-05\n",
      "4          day_of_year  7.959807e-05\n",
      "16    equation_of_time  7.224611e-05\n",
      "19            pressure  2.412442e-05\n",
      "17              precip  2.024998e-05\n",
      "24                 lon  9.032869e-06\n",
      "23                 lat  8.398504e-06\n",
      "3          day_of_week  5.133107e-06\n",
      "6      cos_day_of_week  3.161085e-06\n",
      "5      sin_day_of_week  2.422145e-06\n",
      "1              minutes  4.195037e-08\n"
     ]
    }
   ],
   "source": [
    "from sklearn.ensemble import RandomForestRegressor\n",
    "from sklearn.model_selection import train_test_split\n",
    "\n",
    "X_fi = df_corr.drop('PET', axis=1)\n",
    "y_fi = df_corr['PET']\n",
    "\n",
    "X_train, X_test, y_train, y_test = train_test_split(X_fi, y_fi, test_size=0.2, random_state=42)\n",
    "\n",
    "rf = RandomForestRegressor(n_estimators=100, max_depth=15, n_jobs=n_job, random_state=42)\n",
    "rf.fit(X_train, y_train)\n",
    "\n",
    "# Saving future importance\n",
    "importances = rf.feature_importances_\n",
    "\n",
    "# Create a DataFrame for visualization\n",
    "feature_importances = pd.DataFrame({'feature': X_fi.columns, 'importance': importances})\n",
    "feature_importances = feature_importances.sort_values('importance', ascending=False)\n",
    "\n",
    "plt.figure(figsize=(10, 8))\n",
    "plt.title(\"Feature importances\")\n",
    "plt.barh(feature_importances['feature'], feature_importances['importance'], align=\"center\")\n",
    "plt.gca().invert_yaxis()\n",
    "plt.show()\n",
    "print(feature_importances)"
   ]
  },
  {
   "cell_type": "markdown",
   "metadata": {},
   "source": [
    "### XGB Boost"
   ]
  },
  {
   "cell_type": "code",
   "execution_count": null,
   "metadata": {},
   "outputs": [
    {
     "name": "stdout",
     "output_type": "stream",
     "text": [
      "               feature  importance\n",
      "18                temp    0.240207\n",
      "20            humidity    0.115713\n",
      "14           elevation    0.082676\n",
      "12              zenith    0.076254\n",
      "8      cos_day_of_year    0.065532\n",
      "10    cos_hour_decimal    0.059996\n",
      "4          day_of_year    0.051512\n",
      "0                hours    0.048777\n",
      "16    equation_of_time    0.045234\n",
      "22           wind_gust    0.044089\n",
      "7      sin_day_of_year    0.039393\n",
      "21          wind_speed    0.024059\n",
      "2         hour_decimal    0.023051\n",
      "15             azimuth    0.019788\n",
      "9     sin_hour_decimal    0.011058\n",
      "13  apparent_elevation    0.010137\n",
      "3          day_of_week    0.008164\n",
      "23                 lat    0.007092\n",
      "6      cos_day_of_week    0.006024\n",
      "11     apparent_zenith    0.005650\n",
      "5      sin_day_of_week    0.004926\n",
      "19            pressure    0.004377\n",
      "24                 lon    0.003588\n",
      "17              precip    0.002527\n",
      "1              minutes    0.000174\n"
     ]
    },
    {
     "data": {
      "image/png": "[encoded data removed]",
      "text/plain": [
       "<Figure size 1000x800 with 1 Axes>"
      ]
     },
     "metadata": {},
     "output_type": "display_data"
    }
   ],
   "source": [
    "xg_reg = xgb.XGBRegressor(objective ='reg:squarederror', \n",
    "                max_depth = 15, n_estimators = 100,  n_jobs=n_job)\n",
    "xg_reg.fit(X_train,y_train)\n",
    "\n",
    "# Saving feature importances values\n",
    "importances = xg_reg.feature_importances_\n",
    "\n",
    "# Create a DataFrame for visualization\n",
    "feature_importances = pd.DataFrame({'feature': X_train.columns, 'importance': importances})\n",
    "feature_importances = feature_importances.sort_values('importance', ascending=False)\n",
    "\n",
    "print(feature_importances)\n",
    "\n",
    "plt.figure(figsize=(10, 8))\n",
    "plt.title(\"Feature importances\")\n",
    "plt.barh(feature_importances['feature'], feature_importances['importance'], align=\"center\")\n",
    "plt.gca().invert_yaxis()\n",
    "plt.show()"
   ]
  },
  {
   "cell_type": "markdown",
   "metadata": {},
   "source": [
    "## Recursive Feature Elimination (RFE)"
   ]
  },
  {
   "cell_type": "markdown",
   "metadata": {},
   "source": [
    "Recursive Feature Elimination (RFE)\n",
    "Mechanism: Works by recursively removing features, building a model using the remaining features, and evaluating model performance. In each iteration, the least important feature(s) (e.g., based on model coefficients or feature importance scores) is removed, and the process is repeated until the desired number of features is reached."
   ]
  },
  {
   "cell_type": "code",
   "execution_count": null,
   "metadata": {},
   "outputs": [],
   "source": [
    "X = df_corr.drop('PET', axis=1)\n",
    "y = df_corr['PET']\n",
    "\n",
    "# Initialize the model\n",
    "model = RandomForestRegressor(n_estimators=100, random_state=42,  max_depth=15,)\n",
    "\n",
    "# Initialize RFE with 6 features to select and deleting one feature at a time\n",
    "rfe = RFE(estimator=model, n_features_to_select=6, step=1)\n",
    "\n",
    "rfe = rfe.fit(X, y)\n",
    "\n",
    "# Save the features ranking\n",
    "ranking = rfe.ranking_\n",
    "\n",
    "# Get a mask of the selected features\n",
    "selected_features = rfe.support_\n",
    "\n",
    "print('Features ranking:', ranking)\n",
    "\n",
    "print('Selected features:', selected_features)"
   ]
  },
  {
   "cell_type": "markdown",
   "metadata": {},
   "source": [
    "Features ranking: [ 8 20  6 17 12 19 18  9  7  1  5  1  1  2  1  4 10 16  1 13  3  1 11 15\n",
    " 14]\n",
    "Selected features: [False False False False False False False False False  True False  True\n",
    "  True False  True False False False  True False False  True False False\n",
    " False] 1078 min "
   ]
  },
  {
   "cell_type": "code",
   "execution_count": null,
   "metadata": {},
   "outputs": [],
   "source": [
    "# Get the names of the selected features for printing\n",
    "selected_feature_names = X.columns[selected_features]\n",
    "\n",
    "print('Selected feature names:', selected_feature_names)"
   ]
  },
  {
   "cell_type": "markdown",
   "metadata": {},
   "source": [
    "Selected feature names: Index(['sin_hour_decimal', 'apparent_zenith', 'zenith', 'elevation', 'temp',\n",
    "       'wind_speed'],\n",
    "      dtype='object')"
   ]
  },
  {
   "cell_type": "code",
   "execution_count": null,
   "metadata": {},
   "outputs": [],
   "source": [
    "# Create a DataFrame with feature names and their rankings sort it and print\n",
    "feature_ranking = pd.DataFrame({'Feature': X.columns, 'Ranking': ranking})\n",
    "\n",
    "feature_ranking = feature_ranking.sort_values('Ranking')\n",
    "\n",
    "print(feature_ranking)"
   ]
  },
  {
   "cell_type": "markdown",
   "metadata": {},
   "source": [
    "               Feature  Ranking\n",
    "12              zenith        1\n",
    "21          wind_speed        1\n",
    "18                temp        1\n",
    "14           elevation        1\n",
    "9     sin_hour_decimal        1\n",
    "11     apparent_zenith        1\n",
    "13  apparent_elevation        2\n",
    "20            humidity        3\n",
    "15             azimuth        4\n",
    "10    cos_hour_decimal        5\n",
    "2         hour_decimal        6\n",
    "8      cos_day_of_year        7\n",
    "0                hours        8\n",
    "7      sin_day_of_year        9\n",
    "16    equation_of_time       10\n",
    "22           wind_gust       11\n",
    "4          day_of_year       12\n",
    "19            pressure       13\n",
    "24                 lon       14\n",
    "23                 lat       15\n",
    "17              precip       16\n",
    "3          day_of_week       17\n",
    "6      cos_day_of_week       18\n",
    "5      sin_day_of_week       19\n",
    "1              minutes       20"
   ]
  }
 ],
 "metadata": {
  "kernelspec": {
   "display_name": "Python 3",
   "language": "python",
   "name": "python3"
  },
  "language_info": {
   "codemirror_mode": {
    "name": "ipython",
    "version": 3
   },
   "file_extension": ".py",
   "mimetype": "text/x-python",
   "name": "python",
   "nbconvert_exporter": "python",
   "pygments_lexer": "ipython3",
   "version": "3.10.14"
  }
 },
 "nbformat": 4,
 "nbformat_minor": 2
}
